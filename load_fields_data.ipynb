{
 "cells": [
  {
   "cell_type": "code",
   "execution_count": 1,
   "id": "0a612e9f",
   "metadata": {},
   "outputs": [],
   "source": [
    "import os\n",
    "from tqdm import tqdm\n",
    "import pandas as pd\n",
    "import numpy as np\n",
    "import pickle\n",
    "from datetime import datetime\n",
    "import matplotlib.pyplot as plt"
   ]
  },
  {
   "cell_type": "code",
   "execution_count": 2,
   "id": "8b90609a",
   "metadata": {},
   "outputs": [],
   "source": [
    "with open('data/leaderboard_fields_raw_20240125.pickle', 'rb') as handle:\n",
    "    df = pickle.load(handle)"
   ]
  },
  {
   "cell_type": "code",
   "execution_count": 3,
   "id": "b9f93b17",
   "metadata": {},
   "outputs": [
    {
     "name": "stdout",
     "output_type": "stream",
     "text": [
      "47\n"
     ]
    }
   ],
   "source": [
    "models = list(df.keys())\n",
    "print(len(models))"
   ]
  },
  {
   "cell_type": "code",
   "execution_count": 4,
   "id": "4fdb6a2e",
   "metadata": {},
   "outputs": [
    {
     "name": "stdout",
     "output_type": "stream",
     "text": [
      "40\n"
     ]
    }
   ],
   "source": [
    "for key1 in df.keys():\n",
    "    for key2 in df[key1].keys():\n",
    "        if df[key1][key2]==None: \n",
    "            try: models.remove(key1)\n",
    "            except: pass\n",
    "print(len(models))"
   ]
  },
  {
   "cell_type": "code",
   "execution_count": 5,
   "id": "e073ee7d",
   "metadata": {},
   "outputs": [],
   "source": [
    "data = {}\n",
    "data['data'] = {}\n",
    "data['models'] = models\n",
    "\n",
    "for sub in df[list(df.keys())[0]].keys():\n",
    "    data['data'][sub] = {}\n",
    "    data['data'][sub]['correctness'] = []\n",
    "    \n",
    "    for model in models:\n",
    "        data['data'][sub]['correctness'].append(df[model][sub]['correctness'])\n",
    "            \n",
    "    data['data'][sub]['correctness'] = np.array(data['data'][sub]['correctness']).T.astype(float)"
   ]
  },
  {
   "cell_type": "code",
   "execution_count": 6,
   "id": "1aee8918",
   "metadata": {},
   "outputs": [],
   "source": [
    "with open('data/lb.pickle', 'rb') as f:\n",
    "    data_lb = pickle.load(f)"
   ]
  },
  {
   "cell_type": "code",
   "execution_count": 9,
   "id": "6635fe49",
   "metadata": {},
   "outputs": [],
   "source": [
    "mmlu_sub = ['harness_hendrycksTest_abstract_algebra_5', 'harness_hendrycksTest_anatomy_5', 'harness_hendrycksTest_astronomy_5', 'harness_hendrycksTest_business_ethics_5', 'harness_hendrycksTest_clinical_knowledge_5', 'harness_hendrycksTest_college_biology_5', 'harness_hendrycksTest_college_chemistry_5', 'harness_hendrycksTest_college_computer_science_5', 'harness_hendrycksTest_college_mathematics_5', 'harness_hendrycksTest_college_medicine_5', 'harness_hendrycksTest_college_physics_5', 'harness_hendrycksTest_computer_security_5', 'harness_hendrycksTest_conceptual_physics_5', 'harness_hendrycksTest_econometrics_5', 'harness_hendrycksTest_electrical_engineering_5', 'harness_hendrycksTest_elementary_mathematics_5', 'harness_hendrycksTest_formal_logic_5', 'harness_hendrycksTest_global_facts_5', 'harness_hendrycksTest_high_school_biology_5', 'harness_hendrycksTest_high_school_chemistry_5', 'harness_hendrycksTest_high_school_computer_science_5', 'harness_hendrycksTest_high_school_european_history_5', 'harness_hendrycksTest_high_school_geography_5', 'harness_hendrycksTest_high_school_government_and_politics_5', 'harness_hendrycksTest_high_school_macroeconomics_5', 'harness_hendrycksTest_high_school_mathematics_5', 'harness_hendrycksTest_high_school_microeconomics_5', 'harness_hendrycksTest_high_school_physics_5', 'harness_hendrycksTest_high_school_psychology_5', 'harness_hendrycksTest_high_school_statistics_5', 'harness_hendrycksTest_high_school_us_history_5', 'harness_hendrycksTest_high_school_world_history_5', 'harness_hendrycksTest_human_aging_5', 'harness_hendrycksTest_human_sexuality_5', 'harness_hendrycksTest_international_law_5', 'harness_hendrycksTest_jurisprudence_5', 'harness_hendrycksTest_logical_fallacies_5', 'harness_hendrycksTest_machine_learning_5', 'harness_hendrycksTest_management_5', 'harness_hendrycksTest_marketing_5', 'harness_hendrycksTest_medical_genetics_5', 'harness_hendrycksTest_miscellaneous_5', 'harness_hendrycksTest_moral_disputes_5', 'harness_hendrycksTest_moral_scenarios_5', 'harness_hendrycksTest_nutrition_5', 'harness_hendrycksTest_philosophy_5', 'harness_hendrycksTest_prehistory_5', 'harness_hendrycksTest_professional_accounting_5', 'harness_hendrycksTest_professional_law_5', 'harness_hendrycksTest_professional_medicine_5', 'harness_hendrycksTest_professional_psychology_5', 'harness_hendrycksTest_public_relations_5', 'harness_hendrycksTest_security_studies_5', 'harness_hendrycksTest_sociology_5', 'harness_hendrycksTest_us_foreign_policy_5', 'harness_hendrycksTest_virology_5', 'harness_hendrycksTest_world_religions_5']"
   ]
  },
  {
   "cell_type": "code",
   "execution_count": 10,
   "id": "7bd0ae56",
   "metadata": {},
   "outputs": [
    {
     "name": "stdout",
     "output_type": "stream",
     "text": [
      "(100, 40)\n",
      "(100, 428)\n",
      "(135, 40)\n",
      "(135, 428)\n",
      "(152, 40)\n",
      "(152, 428)\n",
      "(100, 40)\n",
      "(100, 428)\n",
      "(265, 40)\n",
      "(265, 428)\n",
      "(144, 40)\n",
      "(144, 428)\n",
      "(100, 40)\n",
      "(100, 428)\n",
      "(100, 40)\n",
      "(100, 428)\n",
      "(100, 40)\n",
      "(100, 428)\n",
      "(173, 40)\n",
      "(173, 428)\n",
      "(102, 40)\n",
      "(102, 428)\n",
      "(100, 40)\n",
      "(100, 428)\n",
      "(235, 40)\n",
      "(235, 428)\n",
      "(114, 40)\n",
      "(114, 428)\n",
      "(145, 40)\n",
      "(145, 428)\n",
      "(378, 40)\n",
      "(378, 428)\n",
      "(126, 40)\n",
      "(126, 428)\n",
      "(100, 40)\n",
      "(100, 428)\n",
      "(310, 40)\n",
      "(310, 428)\n",
      "(203, 40)\n",
      "(203, 428)\n",
      "(100, 40)\n",
      "(100, 428)\n",
      "(165, 40)\n",
      "(165, 428)\n",
      "(198, 40)\n",
      "(198, 428)\n",
      "(193, 40)\n",
      "(193, 428)\n",
      "(390, 40)\n",
      "(390, 428)\n",
      "(270, 40)\n",
      "(270, 428)\n",
      "(238, 40)\n",
      "(238, 428)\n",
      "(151, 40)\n",
      "(151, 428)\n",
      "(545, 40)\n",
      "(545, 428)\n",
      "(216, 40)\n",
      "(216, 428)\n",
      "(204, 40)\n",
      "(204, 428)\n",
      "(237, 40)\n",
      "(237, 428)\n",
      "(223, 40)\n",
      "(223, 428)\n",
      "(131, 40)\n",
      "(131, 428)\n",
      "(121, 40)\n",
      "(121, 428)\n",
      "(108, 40)\n",
      "(108, 428)\n",
      "(163, 40)\n",
      "(163, 428)\n",
      "(112, 40)\n",
      "(112, 428)\n",
      "(103, 40)\n",
      "(103, 428)\n",
      "(234, 40)\n",
      "(234, 428)\n",
      "(100, 40)\n",
      "(100, 428)\n",
      "(783, 40)\n",
      "(783, 428)\n",
      "(346, 40)\n",
      "(346, 428)\n",
      "(895, 40)\n",
      "(895, 428)\n",
      "(306, 40)\n",
      "(306, 428)\n",
      "(311, 40)\n",
      "(311, 428)\n",
      "(324, 40)\n",
      "(324, 428)\n",
      "(282, 40)\n",
      "(282, 428)\n",
      "(1534, 40)\n",
      "(1534, 428)\n",
      "(272, 40)\n",
      "(272, 428)\n",
      "(612, 40)\n",
      "(612, 428)\n",
      "(110, 40)\n",
      "(110, 428)\n",
      "(245, 40)\n",
      "(245, 428)\n",
      "(201, 40)\n",
      "(201, 428)\n",
      "(100, 40)\n",
      "(100, 428)\n",
      "(166, 40)\n",
      "(166, 428)\n",
      "(171, 40)\n",
      "(171, 428)\n"
     ]
    }
   ],
   "source": [
    "delete_ind = -np.sort([-i for i in range(len(data_lb['models'])) if data_lb['models'][i] in data['models']])\n",
    "for sub in mmlu_sub:\n",
    "    \n",
    "    print(data['data'][sub]['correctness'].shape)\n",
    "    data['data'][sub]['correctness'] = np.hstack((data['data'][sub]['correctness'],\n",
    "                                                  np.delete(data_lb['data'][sub]['correctness'], delete_ind, axis=1)))\n",
    "    print(data['data'][sub]['correctness'].shape)"
   ]
  },
  {
   "cell_type": "code",
   "execution_count": 11,
   "id": "234bb075",
   "metadata": {},
   "outputs": [],
   "source": [
    "data['models'] += [data_lb['models'][i] for i in range(len(data_lb['models'])) if i not in delete_ind]"
   ]
  },
  {
   "cell_type": "code",
   "execution_count": 14,
   "id": "386ca42c",
   "metadata": {},
   "outputs": [
    {
     "data": {
      "text/plain": [
       "428"
      ]
     },
     "execution_count": 14,
     "metadata": {},
     "output_type": "execute_result"
    }
   ],
   "source": [
    "len(data['models'])"
   ]
  },
  {
   "cell_type": "code",
   "execution_count": 15,
   "id": "7c034f69",
   "metadata": {},
   "outputs": [],
   "source": [
    "with open('data/mmlu_fields.pickle', 'wb') as handle:\n",
    "    pickle.dump(data, handle, protocol=pickle.HIGHEST_PROTOCOL)"
   ]
  },
  {
   "cell_type": "code",
   "execution_count": null,
   "id": "aed9702e",
   "metadata": {},
   "outputs": [],
   "source": []
  }
 ],
 "metadata": {
  "kernelspec": {
   "display_name": "Python 3 (ipykernel)",
   "language": "python",
   "name": "python3"
  },
  "language_info": {
   "codemirror_mode": {
    "name": "ipython",
    "version": 3
   },
   "file_extension": ".py",
   "mimetype": "text/x-python",
   "name": "python",
   "nbconvert_exporter": "python",
   "pygments_lexer": "ipython3",
   "version": "3.11.5"
  }
 },
 "nbformat": 4,
 "nbformat_minor": 5
}
