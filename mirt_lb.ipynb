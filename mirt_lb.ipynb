{
 "cells": [
  {
   "cell_type": "code",
   "execution_count": 1,
   "id": "952aeda1",
   "metadata": {},
   "outputs": [],
   "source": [
    "import pickle\n",
    "import copy\n",
    "from experiments import *\n",
    "from utils import *"
   ]
  },
  {
   "cell_type": "markdown",
   "id": "8491d564",
   "metadata": {},
   "source": [
    "Definitions"
   ]
  },
  {
   "cell_type": "code",
   "execution_count": 2,
   "id": "ad64dc70",
   "metadata": {},
   "outputs": [],
   "source": [
    "scenarios = {'harness_truthfulqa_mc_0':['harness_truthfulqa_mc_0'],\n",
    "             'gsm8k':['harness_gsm8k_5'], \n",
    "             'winogrande':['harness_winogrande_5'], \n",
    "             'arc':['harness_arc_challenge_25'], \n",
    "             'hellaswag':['harness_hellaswag_10'],\n",
    "             'mmlu':['harness_hendrycksTest_abstract_algebra_5', \n",
    "                     'harness_hendrycksTest_anatomy_5', \n",
    "                     'harness_hendrycksTest_astronomy_5', \n",
    "                     'harness_hendrycksTest_business_ethics_5', \n",
    "                     'harness_hendrycksTest_clinical_knowledge_5', \n",
    "                     'harness_hendrycksTest_college_biology_5', \n",
    "                     'harness_hendrycksTest_college_chemistry_5', \n",
    "                     'harness_hendrycksTest_college_computer_science_5', \n",
    "                     'harness_hendrycksTest_college_mathematics_5', \n",
    "                     'harness_hendrycksTest_college_medicine_5', \n",
    "                     'harness_hendrycksTest_college_physics_5', \n",
    "                     'harness_hendrycksTest_computer_security_5', \n",
    "                     'harness_hendrycksTest_conceptual_physics_5', \n",
    "                     'harness_hendrycksTest_econometrics_5', \n",
    "                     'harness_hendrycksTest_electrical_engineering_5', \n",
    "                     'harness_hendrycksTest_elementary_mathematics_5', \n",
    "                     'harness_hendrycksTest_formal_logic_5', \n",
    "                     'harness_hendrycksTest_global_facts_5', \n",
    "                     'harness_hendrycksTest_high_school_biology_5', \n",
    "                     'harness_hendrycksTest_high_school_chemistry_5', \n",
    "                     'harness_hendrycksTest_high_school_computer_science_5', \n",
    "                     'harness_hendrycksTest_high_school_european_history_5', \n",
    "                     'harness_hendrycksTest_high_school_geography_5', \n",
    "                     'harness_hendrycksTest_high_school_government_and_politics_5', \n",
    "                     'harness_hendrycksTest_high_school_macroeconomics_5', \n",
    "                     'harness_hendrycksTest_high_school_mathematics_5', \n",
    "                     'harness_hendrycksTest_high_school_microeconomics_5', \n",
    "                     'harness_hendrycksTest_high_school_physics_5', \n",
    "                     'harness_hendrycksTest_high_school_psychology_5', \n",
    "                     'harness_hendrycksTest_high_school_statistics_5', \n",
    "                     'harness_hendrycksTest_high_school_us_history_5', \n",
    "                     'harness_hendrycksTest_high_school_world_history_5', \n",
    "                     'harness_hendrycksTest_human_aging_5', \n",
    "                     'harness_hendrycksTest_human_sexuality_5', \n",
    "                     'harness_hendrycksTest_international_law_5', \n",
    "                     'harness_hendrycksTest_jurisprudence_5', \n",
    "                     'harness_hendrycksTest_logical_fallacies_5', \n",
    "                     'harness_hendrycksTest_machine_learning_5', \n",
    "                     'harness_hendrycksTest_management_5', \n",
    "                     'harness_hendrycksTest_marketing_5', \n",
    "                     'harness_hendrycksTest_medical_genetics_5', \n",
    "                     'harness_hendrycksTest_miscellaneous_5', \n",
    "                     'harness_hendrycksTest_moral_disputes_5', \n",
    "                     'harness_hendrycksTest_moral_scenarios_5', \n",
    "                     'harness_hendrycksTest_nutrition_5', \n",
    "                     'harness_hendrycksTest_philosophy_5', \n",
    "                     'harness_hendrycksTest_prehistory_5', \n",
    "                     'harness_hendrycksTest_professional_accounting_5', \n",
    "                     'harness_hendrycksTest_professional_law_5', \n",
    "                     'harness_hendrycksTest_professional_medicine_5', \n",
    "                     'harness_hendrycksTest_professional_psychology_5',\n",
    "                     'harness_hendrycksTest_public_relations_5', \n",
    "                     'harness_hendrycksTest_security_studies_5', \n",
    "                     'harness_hendrycksTest_sociology_5', \n",
    "                     'harness_hendrycksTest_us_foreign_policy_5', \n",
    "                     'harness_hendrycksTest_virology_5', \n",
    "                     'harness_hendrycksTest_world_religions_5']}"
   ]
  },
  {
   "cell_type": "markdown",
   "id": "14725d5d",
   "metadata": {},
   "source": [
    "## Data"
   ]
  },
  {
   "cell_type": "markdown",
   "id": "16e324e4",
   "metadata": {},
   "source": [
    "Loading data"
   ]
  },
  {
   "cell_type": "code",
   "execution_count": 3,
   "id": "e3b24d52",
   "metadata": {},
   "outputs": [],
   "source": [
    "with open('data/lb.pickle', 'rb') as handle:\n",
    "    data = pickle.load(handle)"
   ]
  },
  {
   "cell_type": "markdown",
   "id": "797477e3",
   "metadata": {},
   "source": [
    "## Results"
   ]
  },
  {
   "cell_type": "code",
   "execution_count": 4,
   "id": "02ca743e",
   "metadata": {},
   "outputs": [],
   "source": [
    "device = 'cuda'\n",
    "iterations = 10\n",
    "Ds = [5, 10, 15, 20, 25] #"
   ]
  },
  {
   "cell_type": "code",
   "execution_count": 5,
   "id": "fa62189b",
   "metadata": {},
   "outputs": [
    {
     "data": {
      "text/plain": [
       "[[0, 1, 2, 3, 4, 5, 6, 7, 8, 9, 10, 11, 12, 13]]"
      ]
     },
     "execution_count": 5,
     "metadata": {},
     "output_type": "execute_result"
    }
   ],
   "source": [
    "set_of_rows = [list(range(14))]\n",
    "set_of_rows"
   ]
  },
  {
   "cell_type": "markdown",
   "id": "f81c6fd5",
   "metadata": {},
   "source": [
    "### Predicting accuracy"
   ]
  },
  {
   "cell_type": "markdown",
   "id": "a451897a",
   "metadata": {},
   "source": [
    "Full (one IRT model for all scenarios)"
   ]
  },
  {
   "cell_type": "code",
   "execution_count": null,
   "id": "b5503788",
   "metadata": {},
   "outputs": [
    {
     "name": "stdout",
     "output_type": "stream",
     "text": [
      "\n",
      "Evaluating models [0, 1, 2, 3, 4, 5, 6, 7, 8, 9, 10, 11, 12, 13]\n",
      "\n",
      "i) choosing optimal D\n"
     ]
    },
    {
     "name": "stderr",
     "output_type": "stream",
     "text": [
      "100%|████████████████████████████████████████████| 5/5 [18:13<00:00, 218.70s/it]\n"
     ]
    },
    {
     "name": "stdout",
     "output_type": "stream",
     "text": [
      "- opt D= 15 errors= [0.034093515819567564, 0.029106033031713663, 0.026244414892066786, 0.03151184934788634, 0.034330946426151476] \n",
      "\n",
      "\n",
      "ii) choosing optimal lambdas\n"
     ]
    },
    {
     "name": "stderr",
     "output_type": "stream",
     "text": [
      "100%|██████████████████████████████████████████| 6/6 [00:00<00:00, 43240.25it/s]\n"
     ]
    },
    {
     "name": "stdout",
     "output_type": "stream",
     "text": [
      "{'random_gpirt': {'harness_truthfulqa_mc_0': {10: 0.07803024703111884, 25: 0.1746353574540376, 50: 0.29734394822330373, 75: 0.3882883298166048, 100: 0.4583887698100608}, 'gsm8k': {10: 0.1426506067254987, 25: 0.29376737532445957, 50: 0.45412704158007794, 75: 0.5551387934110661, 100: 0.6246043551829091}, 'winogrande': {10: 0.009065742286237811, 25: 0.022360286818973764, 50: 0.04374247925561888, 75: 0.06420938014394693, 100: 0.08381852827685109}, 'arc': {10: 0.010435625664273489, 25: 0.02568697468233495, 50: 0.05008735670118157, 75: 0.07329544744148517, 100: 0.0953965522611938}, 'hellaswag': {10: 0.0042532405012230545, 25: 0.010565693599148522, 50: 0.020910453750945385, 75: 0.031041138481124952, 100: 0.04096432488102735}, 'mmlu': {10: 0.013669477413163088, 25: 0.03348706746440117, 50: 0.06480403774487414, 75: 0.0941552368557717, 100: 0.1217201202244147}}, 'anchor_gpirt': {'harness_truthfulqa_mc_0': {10: 0.14476448549753237, 25: 0.29734394822330373, 50: 0.4583887698100608, 75: 0.559377070997778, 100: 0.6286235595050023}, 'gsm8k': {10: 0.2496836843841417, 25: 0.45412704158007794, 50: 0.6246043551829091, 75: 0.7139411553015355, 100: 0.7689310362738586}, 'winogrande': {10: 0.017968586002528597, 25: 0.04374247925561888, 50: 0.08381852827685109, 75: 0.12067057731677173, 100: 0.15467262477993077}, 'arc': {10: 0.020655696215012162, 25: 0.05008735670118157, 50: 0.0953965522611938, 75: 0.1365801888309624, 100: 0.17417720014595556}, 'hellaswag': {10: 0.008470454123902576, 25: 0.020910453750945385, 50: 0.04096432488102735, 75: 0.060213190963171674, 100: 0.0787045701795961}, 'mmlu': {10: 0.026970285123010616, 25: 0.06480403774487414, 50: 0.1217201202244147, 75: 0.17210581037173792, 100: 0.21702404731772665}}, 'anchor-irt_gpirt': {'harness_truthfulqa_mc_0': {10: 0.14476448549753237, 25: 0.29734394822330373, 50: 0.4583887698100608, 75: 0.559377070997778, 100: 0.6286235595050023}, 'gsm8k': {10: 0.2496836843841417, 25: 0.45412704158007794, 50: 0.6246043551829091, 75: 0.7139411553015355, 100: 0.7689310362738586}, 'winogrande': {10: 0.017968586002528597, 25: 0.04374247925561888, 50: 0.08381852827685109, 75: 0.12067057731677173, 100: 0.15467262477993077}, 'arc': {10: 0.020655696215012162, 25: 0.05008735670118157, 50: 0.0953965522611938, 75: 0.1365801888309624, 100: 0.17417720014595556}, 'hellaswag': {10: 0.008470454123902576, 25: 0.020910453750945385, 50: 0.04096432488102735, 75: 0.060213190963171674, 100: 0.0787045701795961}, 'mmlu': {10: 0.026970285123010616, 25: 0.06480403774487414, 50: 0.1217201202244147, 75: 0.17210581037173792, 100: 0.21702404731772665}}, 'disc_gpirt': {'harness_truthfulqa_mc_0': {10: 0.14476448549753237, 25: 0.29734394822330373, 50: 0.4583887698100608, 75: 0.559377070997778, 100: 0.6286235595050023}, 'gsm8k': {10: 0.2496836843841417, 25: 0.45412704158007794, 50: 0.6246043551829091, 75: 0.7139411553015355, 100: 0.7689310362738586}, 'winogrande': {10: 0.017968586002528597, 25: 0.04374247925561888, 50: 0.08381852827685109, 75: 0.12067057731677173, 100: 0.15467262477993077}, 'arc': {10: 0.020655696215012162, 25: 0.05008735670118157, 50: 0.0953965522611938, 75: 0.1365801888309624, 100: 0.17417720014595556}, 'hellaswag': {10: 0.008470454123902576, 25: 0.020910453750945385, 50: 0.04096432488102735, 75: 0.060213190963171674, 100: 0.0787045701795961}, 'mmlu': {10: 0.026970285123010616, 25: 0.06480403774487414, 50: 0.1217201202244147, 75: 0.17210581037173792, 100: 0.21702404731772665}}}\n",
      "\n",
      "iv) running random eval\n"
     ]
    },
    {
     "name": "stderr",
     "output_type": "stream",
     "text": [
      "  7%|██▉                                      | 1/14 [14:58<3:14:43, 898.72s/it]"
     ]
    }
   ],
   "source": [
    "scenario_name = 'full' #we are evaluating all scenarios at once\n",
    "chosen_scenarios = list(scenarios.keys())\n",
    "sampling = {'random_sampling':True,'anchor_sampling':False,\n",
    "            'anchor-irt_sampling':True,'disc_sampling':False}\n",
    "results_full, accs_full = evaluate_scenarios(data, scenario_name, chosen_scenarios, scenarios, set_of_rows, Ds, iterations, device, bench='irt_lb', sampling = sampling)"
   ]
  },
  {
   "cell_type": "code",
   "execution_count": null,
   "id": "7735c05e",
   "metadata": {},
   "outputs": [],
   "source": [
    "with open('results/results_full_lb.pickle', 'wb') as handle:\n",
    "    pickle.dump(results_full, handle, protocol=pickle.HIGHEST_PROTOCOL)\n",
    "    \n",
    "with open('results/accs_full_lb.pickle', 'wb') as handle:\n",
    "    pickle.dump(accs_full, handle, protocol=pickle.HIGHEST_PROTOCOL)"
   ]
  },
  {
   "cell_type": "code",
   "execution_count": null,
   "id": "87f46a6a",
   "metadata": {},
   "outputs": [],
   "source": [
    "methods = ['random_naive', 'random_cirt', 'random_pirt', 'random_gpirt']\n",
    "plot_results(results_full, scenarios.keys(), methods = methods)\n",
    "plot_agg_results(results_full, scenarios.keys(), methods = methods)"
   ]
  },
  {
   "cell_type": "code",
   "execution_count": null,
   "id": "8126a1d3",
   "metadata": {},
   "outputs": [],
   "source": [
    "methods = ['anchor-irt_naive', 'anchor-irt_cirt', 'anchor-irt_pirt', 'anchor-irt_gpirt']\n",
    "plot_results(results_full, scenarios.keys(), methods = methods)\n",
    "plot_agg_results(results_full, scenarios.keys(), methods = methods)"
   ]
  }
 ],
 "metadata": {
  "kernelspec": {
   "display_name": "Python 3 (ipykernel)",
   "language": "python",
   "name": "python3"
  },
  "language_info": {
   "codemirror_mode": {
    "name": "ipython",
    "version": 3
   },
   "file_extension": ".py",
   "mimetype": "text/x-python",
   "name": "python",
   "nbconvert_exporter": "python",
   "pygments_lexer": "ipython3",
   "version": "3.11.5"
  }
 },
 "nbformat": 4,
 "nbformat_minor": 5
}
