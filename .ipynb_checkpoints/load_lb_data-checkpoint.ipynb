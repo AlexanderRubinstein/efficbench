{
 "cells": [
  {
   "cell_type": "code",
   "execution_count": 1,
   "id": "0a612e9f",
   "metadata": {},
   "outputs": [],
   "source": [
    "import os\n",
    "from tqdm import tqdm\n",
    "import pandas as pd\n",
    "import numpy as np\n",
    "import pickle\n",
    "from datetime import datetime\n",
    "import matplotlib.pyplot as plt"
   ]
  },
  {
   "cell_type": "code",
   "execution_count": 2,
   "id": "8b90609a",
   "metadata": {},
   "outputs": [],
   "source": [
    "with open('data/leaderboard_raw_20240108.pickle', 'rb') as handle:\n",
    "    df = pickle.load(handle)"
   ]
  },
  {
   "cell_type": "code",
   "execution_count": 3,
   "id": "b9f93b17",
   "metadata": {},
   "outputs": [
    {
     "name": "stdout",
     "output_type": "stream",
     "text": [
      "47\n"
     ]
    }
   ],
   "source": [
    "models = list(df.keys())\n",
    "print(len(models))"
   ]
  },
  {
   "cell_type": "code",
   "execution_count": 4,
   "id": "4fdb6a2e",
   "metadata": {},
   "outputs": [
    {
     "name": "stdout",
     "output_type": "stream",
     "text": [
      "42\n"
     ]
    }
   ],
   "source": [
    "for key1 in df.keys():\n",
    "    for key2 in df[key1].keys():\n",
    "        if df[key1][key2]==None: \n",
    "            try: models.remove(key1)\n",
    "            except: pass\n",
    "#models.remove('open-llm-leaderboard/details_tiiuae__falcon-180B') #for some scenarios, this model has a limited number of responses\n",
    "print(len(models))"
   ]
  },
  {
   "cell_type": "markdown",
   "id": "b08909e4",
   "metadata": {},
   "source": [
    "[len(np.unique([\"_\".join(df[model][sub]['dates']) for sub in df[list(df.keys())[0]].keys()]).tolist()) for model in models]"
   ]
  },
  {
   "cell_type": "code",
   "execution_count": 5,
   "id": "437284dc",
   "metadata": {},
   "outputs": [
    {
     "data": {
      "text/plain": [
       "array([datetime.datetime(2024, 1, 7, 0, 0),\n",
       "       datetime.datetime(2024, 1, 6, 0, 0),\n",
       "       datetime.datetime(2024, 1, 6, 0, 0),\n",
       "       datetime.datetime(2024, 1, 5, 0, 0),\n",
       "       datetime.datetime(2024, 1, 5, 0, 0),\n",
       "       datetime.datetime(2024, 1, 5, 0, 0),\n",
       "       datetime.datetime(2024, 1, 4, 0, 0),\n",
       "       datetime.datetime(2024, 1, 4, 0, 0),\n",
       "       datetime.datetime(2024, 1, 4, 0, 0),\n",
       "       datetime.datetime(2024, 1, 4, 0, 0),\n",
       "       datetime.datetime(2023, 12, 31, 0, 0),\n",
       "       datetime.datetime(2023, 12, 30, 0, 0),\n",
       "       datetime.datetime(2023, 12, 30, 0, 0),\n",
       "       datetime.datetime(2023, 12, 30, 0, 0),\n",
       "       datetime.datetime(2023, 12, 30, 0, 0)], dtype=object)"
      ]
     },
     "execution_count": 5,
     "metadata": {},
     "output_type": "execute_result"
    }
   ],
   "source": [
    "dates = np.array([datetime.strptime(df[model]['harness_gsm8k_5']['dates'][0][:10], '%Y_%m_%d') for model in models])\n",
    "order = np.argsort(dates)[::-1]\n",
    "dates[order][:15]"
   ]
  },
  {
   "cell_type": "code",
   "execution_count": 6,
   "id": "b15937d6",
   "metadata": {},
   "outputs": [
    {
     "data": {
      "image/png": "[encoded data removed]",
      "text/plain": [
       "<Figure size 640x480 with 1 Axes>"
      ]
     },
     "metadata": {},
     "output_type": "display_data"
    }
   ],
   "source": [
    "plt.plot(order,'bo')\n",
    "plt.show()"
   ]
  },
  {
   "cell_type": "code",
   "execution_count": 7,
   "id": "e073ee7d",
   "metadata": {},
   "outputs": [],
   "source": [
    "data = {}\n",
    "data['data'] = {}\n",
    "data['models'] = models\n",
    "\n",
    "for sub in df[list(df.keys())[0]].keys():\n",
    "    data['data'][sub] = {}\n",
    "    data['data'][sub]['correctness'] = []\n",
    "    \n",
    "    for model in models:\n",
    "        data['data'][sub]['correctness'].append(df[model][sub]['correctness'])\n",
    "            \n",
    "    data['data'][sub]['correctness'] = np.array(data['data'][sub]['correctness']).T.astype(float)"
   ]
  },
  {
   "cell_type": "code",
   "execution_count": 8,
   "id": "7c034f69",
   "metadata": {},
   "outputs": [],
   "source": [
    "with open('data/lb.pickle', 'wb') as handle:\n",
    "    pickle.dump(data, handle, protocol=pickle.HIGHEST_PROTOCOL)"
   ]
  },
  {
   "cell_type": "markdown",
   "id": "8ea84aac",
   "metadata": {},
   "source": [
    "all models"
   ]
  },
  {
   "cell_type": "code",
   "execution_count": 38,
   "id": "a549a670",
   "metadata": {},
   "outputs": [],
   "source": [
    "with open('data/leaderboard_raw_20240108.pickle', 'rb') as handle:\n",
    "    df = pickle.load(handle)"
   ]
  },
  {
   "cell_type": "code",
   "execution_count": 39,
   "id": "f4111e68",
   "metadata": {},
   "outputs": [],
   "source": [
    "models = list(df.keys())\n",
    "models.remove('open-llm-leaderboard/details_tiiuae__falcon-180B')"
   ]
  },
  {
   "cell_type": "code",
   "execution_count": 40,
   "id": "c60acac0",
   "metadata": {},
   "outputs": [],
   "source": [
    "data = {}\n",
    "data['data'] = {}\n",
    "\n",
    "\n",
    "for sub in df[list(df.keys())[0]].keys():\n",
    "    data['data'][sub] = {}\n",
    "    data['data'][sub]['models'] = []\n",
    "    data['data'][sub]['correctness'] = []\n",
    "    \n",
    "    for model in models:\n",
    "        if df[model][sub] != None:\n",
    "            data['data'][sub]['models'].append(model)\n",
    "            data['data'][sub]['correctness'].append(df[model][sub])\n",
    "            \n",
    "    data['data'][sub]['correctness'] = np.array(data['data'][sub]['correctness']).T.astype(float)"
   ]
  },
  {
   "cell_type": "code",
   "execution_count": 41,
   "id": "299befc7",
   "metadata": {},
   "outputs": [],
   "source": [
    "with open('data/lb_all_models.pickle', 'wb') as handle:\n",
    "    pickle.dump(data, handle, protocol=pickle.HIGHEST_PROTOCOL)"
   ]
  },
  {
   "cell_type": "code",
   "execution_count": 42,
   "id": "1e37d892",
   "metadata": {},
   "outputs": [
    {
     "data": {
      "text/plain": [
       "['open-llm-leaderboard/details_ICBU-NPU__FashionGPT-70B-V1.2',\n",
       " 'open-llm-leaderboard/details_uni-tianyan__Uni-TianYan',\n",
       " 'open-llm-leaderboard/details_fangloveskari__ORCA_LLaMA_70B_QLoRA',\n",
       " 'open-llm-leaderboard/details_ICBU-NPU__FashionGPT-70B-V1',\n",
       " 'open-llm-leaderboard/details_budecosystem__genz-70b',\n",
       " 'open-llm-leaderboard/details_fangloveskari__Platypus_QLoRA_LLaMA_70b',\n",
       " 'open-llm-leaderboard/details_ehartford__Samantha-1.11-70b',\n",
       " 'open-llm-leaderboard/details_chargoddard__MelangeA-70b',\n",
       " 'open-llm-leaderboard/details_ehartford__Samantha-1.1-70b',\n",
       " 'open-llm-leaderboard/details_upstage__Llama-2-70b-instruct',\n",
       " 'open-llm-leaderboard/details_garage-bAInd__Camel-Platypus2-70B',\n",
       " 'open-llm-leaderboard/details_migtissera__Synthia-70B-v1.2',\n",
       " 'open-llm-leaderboard/details_v2ray__LLaMA-2-Wizard-70B-QLoRA',\n",
       " 'open-llm-leaderboard/details_TigerResearch__tigerbot-70b-chat',\n",
       " 'open-llm-leaderboard/details_quantumaikr__llama-2-70b-fb16-orca-chat-10k',\n",
       " 'open-llm-leaderboard/details_stabilityai__StableBeluga2',\n",
       " 'open-llm-leaderboard/details_sequelbox__SharpBalance',\n",
       " 'open-llm-leaderboard/details_migtissera__Synthia-70B-v1.1',\n",
       " 'open-llm-leaderboard/details_migtissera__Synthia-70B',\n",
       " 'open-llm-leaderboard/details_augtoma__qCammel70',\n",
       " 'open-llm-leaderboard/details_augtoma__qCammel-70-x',\n",
       " 'open-llm-leaderboard/details_augtoma__qCammel-70v1',\n",
       " 'open-llm-leaderboard/details_augtoma__qCammel-70',\n",
       " 'open-llm-leaderboard/details_augtoma__qCammel-70x',\n",
       " 'open-llm-leaderboard/details_jondurbin__airoboros-l2-70b-gpt4-1.4.1',\n",
       " 'open-llm-leaderboard/details_Doctor-Shotgun__mythospice-70b',\n",
       " 'open-llm-leaderboard/details_dfurman__llama-2-70b-dolphin-peft',\n",
       " 'open-llm-leaderboard/details_migtissera__Synthia-70B-v1.2b',\n",
       " 'open-llm-leaderboard/details_Doctor-Shotgun__mythospice-limarp-70b',\n",
       " 'open-llm-leaderboard/details_jondurbin__airoboros-l2-70b-2.1',\n",
       " 'open-llm-leaderboard/details_TheBloke__llama-2-70b-Guanaco-QLoRA-fp16',\n",
       " 'open-llm-leaderboard/details_psmathur__model_420',\n",
       " 'open-llm-leaderboard/details_psmathur__model_51',\n",
       " 'open-llm-leaderboard/details_OpenAssistant__llama2-70b-oasst-sft-v10',\n",
       " 'open-llm-leaderboard/details_garage-bAInd__Platypus2-70B',\n",
       " 'open-llm-leaderboard/details_liuxiang886__llama2-70B-qlora-gpt4',\n",
       " 'open-llm-leaderboard/details_upstage__llama-65b-instruct',\n",
       " 'open-llm-leaderboard/details_quantumaikr__llama-2-70b-fb16-korean',\n",
       " 'open-llm-leaderboard/details_s1ghhh__medllama-2-70b-qlora-1.1',\n",
       " 'open-llm-leaderboard/details_Sao10K__Euryale-L2-70B',\n",
       " 'open-llm-leaderboard/details_v2ray__LLaMA-2-Jannie-70B-QLoRA',\n",
       " 'open-llm-leaderboard/details_jondurbin__airoboros-l2-70b-gpt4-m2.0',\n",
       " 'open-llm-leaderboard/details_jondurbin__airoboros-l2-70b-gpt4-2.0',\n",
       " 'open-llm-leaderboard/details_elinas__chronos-70b-v2',\n",
       " 'open-llm-leaderboard/details_jarradh__llama2_70b_chat_uncensored',\n",
       " 'open-llm-leaderboard/details_WizardLM__WizardMath-70B-V1.0',\n",
       " 'open-llm-leaderboard/details_jordiclive__Llama-2-70b-oasst-1-200',\n",
       " 'open-llm-leaderboard/details_OpenLemur__lemur-70b-chat-v1',\n",
       " 'open-llm-leaderboard/details_meta-math__MetaMath-70B-V1.0',\n",
       " 'open-llm-leaderboard/details_psmathur__model_42_70b',\n",
       " 'open-llm-leaderboard/details_pankajmathur__Lima_Unchained_70b',\n",
       " 'open-llm-leaderboard/details_TheBloke__fiction.live-Kimiko-V2-70B-fp16',\n",
       " 'open-llm-leaderboard/details_ehartford__samantha-1.1-llama-33b',\n",
       " 'open-llm-leaderboard/details_ajibawa-2023__scarlett-33b']"
      ]
     },
     "execution_count": 42,
     "metadata": {},
     "output_type": "execute_result"
    }
   ],
   "source": [
    "data['data'][sub]['models']"
   ]
  },
  {
   "cell_type": "code",
   "execution_count": 43,
   "id": "317243a0",
   "metadata": {},
   "outputs": [
    {
     "name": "stdout",
     "output_type": "stream",
     "text": [
      "harness_hendrycksTest_abstract_algebra_5 65\n",
      "harness_hendrycksTest_anatomy_5 65\n",
      "harness_hendrycksTest_astronomy_5 65\n",
      "harness_hendrycksTest_business_ethics_5 65\n",
      "harness_hendrycksTest_clinical_knowledge_5 65\n",
      "harness_hendrycksTest_college_biology_5 65\n",
      "harness_hendrycksTest_college_chemistry_5 65\n",
      "harness_hendrycksTest_college_computer_science_5 65\n",
      "harness_hendrycksTest_college_mathematics_5 65\n",
      "harness_hendrycksTest_college_medicine_5 65\n",
      "harness_hendrycksTest_college_physics_5 65\n",
      "harness_hendrycksTest_computer_security_5 65\n",
      "harness_hendrycksTest_conceptual_physics_5 65\n",
      "harness_hendrycksTest_econometrics_5 65\n",
      "harness_hendrycksTest_electrical_engineering_5 65\n",
      "harness_hendrycksTest_elementary_mathematics_5 65\n",
      "harness_hendrycksTest_formal_logic_5 65\n",
      "harness_hendrycksTest_global_facts_5 65\n",
      "harness_hendrycksTest_high_school_biology_5 65\n",
      "harness_hendrycksTest_high_school_chemistry_5 65\n",
      "harness_hendrycksTest_high_school_computer_science_5 65\n",
      "harness_hendrycksTest_high_school_european_history_5 65\n",
      "harness_hendrycksTest_high_school_geography_5 65\n",
      "harness_hendrycksTest_high_school_government_and_politics_5 65\n",
      "harness_hendrycksTest_high_school_macroeconomics_5 65\n",
      "harness_hendrycksTest_high_school_mathematics_5 65\n",
      "harness_hendrycksTest_high_school_microeconomics_5 65\n",
      "harness_hendrycksTest_high_school_physics_5 65\n",
      "harness_hendrycksTest_high_school_psychology_5 65\n",
      "harness_hendrycksTest_high_school_statistics_5 65\n",
      "harness_hendrycksTest_high_school_us_history_5 65\n",
      "harness_hendrycksTest_high_school_world_history_5 65\n",
      "harness_hendrycksTest_human_aging_5 65\n",
      "harness_hendrycksTest_human_sexuality_5 65\n",
      "harness_hendrycksTest_international_law_5 65\n",
      "harness_hendrycksTest_jurisprudence_5 65\n",
      "harness_hendrycksTest_logical_fallacies_5 65\n",
      "harness_hendrycksTest_machine_learning_5 65\n",
      "harness_hendrycksTest_management_5 65\n",
      "harness_hendrycksTest_marketing_5 65\n",
      "harness_hendrycksTest_medical_genetics_5 65\n",
      "harness_hendrycksTest_miscellaneous_5 65\n",
      "harness_hendrycksTest_moral_disputes_5 65\n",
      "harness_hendrycksTest_moral_scenarios_5 65\n",
      "harness_hendrycksTest_nutrition_5 65\n",
      "harness_hendrycksTest_philosophy_5 65\n",
      "harness_hendrycksTest_prehistory_5 65\n",
      "harness_hendrycksTest_professional_accounting_5 65\n",
      "harness_hendrycksTest_professional_law_5 65\n",
      "harness_hendrycksTest_professional_medicine_5 65\n",
      "harness_hendrycksTest_professional_psychology_5 65\n",
      "harness_hendrycksTest_public_relations_5 65\n",
      "harness_hendrycksTest_security_studies_5 65\n",
      "harness_hendrycksTest_sociology_5 65\n",
      "harness_hendrycksTest_us_foreign_policy_5 65\n",
      "harness_hendrycksTest_virology_5 65\n",
      "harness_hendrycksTest_world_religions_5 65\n",
      "harness_arc_challenge_25 65\n",
      "harness_hellaswag_10 65\n",
      "harness_hendrycksTest_5 65\n",
      "harness_truthfulqa_mc_0 65\n",
      "harness_winogrande_5 55\n",
      "harness_gsm8k_5 54\n"
     ]
    }
   ],
   "source": [
    "for sub in df[list(df.keys())[0]].keys():\n",
    "    print(sub,len(data['data'][sub]['models']))"
   ]
  },
  {
   "cell_type": "code",
   "execution_count": null,
   "id": "e5221ca5",
   "metadata": {},
   "outputs": [],
   "source": []
  }
 ],
 "metadata": {
  "kernelspec": {
   "display_name": "Python 3 (ipykernel)",
   "language": "python",
   "name": "python3"
  },
  "language_info": {
   "codemirror_mode": {
    "name": "ipython",
    "version": 3
   },
   "file_extension": ".py",
   "mimetype": "text/x-python",
   "name": "python",
   "nbconvert_exporter": "python",
   "pygments_lexer": "ipython3",
   "version": "3.11.5"
  }
 },
 "nbformat": 4,
 "nbformat_minor": 5
}
