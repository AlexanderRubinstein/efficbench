{
 "cells": [
  {
   "cell_type": "code",
   "execution_count": 1,
   "id": "0a612e9f",
   "metadata": {},
   "outputs": [],
   "source": [
    "import os\n",
    "from tqdm import tqdm\n",
    "import pandas as pd\n",
    "import numpy as np\n",
    "import pickle"
   ]
  },
  {
   "cell_type": "code",
   "execution_count": 2,
   "id": "8b90609a",
   "metadata": {},
   "outputs": [],
   "source": [
    "with open('data/leaderboard.pickle', 'rb') as handle:\n",
    "    df = pickle.load(handle)"
   ]
  },
  {
   "cell_type": "code",
   "execution_count": 3,
   "id": "c60acac0",
   "metadata": {},
   "outputs": [],
   "source": [
    "data = {}\n",
    "data['data'] = {}\n",
    "\n",
    "for sub in df[list(df.keys())[0]].keys():\n",
    "    data['data'][sub] = {}\n",
    "    data['data'][sub]['models'] = []\n",
    "    data['data'][sub]['correctness'] = []\n",
    "    \n",
    "    for model in df.keys():\n",
    "        if df[model][sub] != None:\n",
    "            data['data'][sub]['models'].append(model)\n",
    "            data['data'][sub]['correctness'].append(df[model][sub])\n",
    "            \n",
    "    data['data'][sub]['correctness'] = np.array(data['data'][sub]['correctness']).T.astype(float)"
   ]
  },
  {
   "cell_type": "code",
   "execution_count": 4,
   "id": "299befc7",
   "metadata": {},
   "outputs": [],
   "source": [
    "with open('data/lb_all_models.pickle', 'wb') as handle:\n",
    "    pickle.dump(data, handle, protocol=pickle.HIGHEST_PROTOCOL)"
   ]
  },
  {
   "cell_type": "code",
   "execution_count": 5,
   "id": "1e37d892",
   "metadata": {},
   "outputs": [
    {
     "data": {
      "text/plain": [
       "['open-llm-leaderboard/details_uni-tianyan__Uni-TianYan',\n",
       " 'open-llm-leaderboard/details_garage-bAInd__Camel-Platypus2-70B',\n",
       " 'open-llm-leaderboard/details_TheBloke__llama-2-70b-Guanaco-QLoRA-fp16',\n",
       " 'open-llm-leaderboard/details_WizardLM__WizardMath-70B-V1.0',\n",
       " 'open-llm-leaderboard/details_Weyaxi__llama-2-alpacagpt4-1000step',\n",
       " 'open-llm-leaderboard/details_jondurbin__airoboros-65b-gpt4-1.4-peft',\n",
       " 'open-llm-leaderboard/details_TheBloke__robin-65b-v2-fp16',\n",
       " 'open-llm-leaderboard/details_uukuguy__speechless-llama2-hermes-orca-platypus-wizardlm-13b',\n",
       " 'open-llm-leaderboard/details_Yhyu13__oasst-rlhf-2-llama-30b-7k-steps-hf',\n",
       " 'open-llm-leaderboard/details_Gryphe__MythoMix-L2-13b',\n",
       " 'open-llm-leaderboard/details_yeontaek__Platypus2xOpenOrca-13B-IA3-v4',\n",
       " 'open-llm-leaderboard/details_augtoma__qCammel-13',\n",
       " 'open-llm-leaderboard/details_Undi95__ReMM-L2-13B',\n",
       " 'open-llm-leaderboard/details_uukuguy__speechless-hermes-coig-lite-13b',\n",
       " 'open-llm-leaderboard/details_yeontaek__Platypus2-13B-LoRa',\n",
       " 'open-llm-leaderboard/details_duliadotio__dulia-13b-8k-alpha',\n",
       " 'open-llm-leaderboard/details_yeontaek__Platypus2-13B-QLoRa',\n",
       " 'open-llm-leaderboard/details_meta-llama__Llama-2-13b-chat-hf',\n",
       " 'open-llm-leaderboard/details_CalderaAI__13B-Ouroboros',\n",
       " 'open-llm-leaderboard/details_openaccess-ai-collective__manticore-13b-chat-pyg',\n",
       " 'open-llm-leaderboard/details_TheBloke__vicuna-13B-1.1-HF',\n",
       " 'open-llm-leaderboard/details_Open-Orca__LlongOrca-7B-16k',\n",
       " 'open-llm-leaderboard/details_luffycodes__mcq-hal-vicuna-13b-v1.5',\n",
       " 'open-llm-leaderboard/details_jondurbin__airoboros-l2-13b-gpt4-2.0',\n",
       " 'open-llm-leaderboard/details_lmsys__vicuna-7b-v1.5',\n",
       " 'open-llm-leaderboard/details_PocketDoc__Dans-PileOfSets-Mk1-llama-13b-merged',\n",
       " 'open-llm-leaderboard/details_LinkSoul__Chinese-Llama-2-7b',\n",
       " 'open-llm-leaderboard/details_Aspik101__trurl-2-7b-pl-instruct_unload',\n",
       " 'open-llm-leaderboard/details_Aspik101__Llama-2-7b-hf-instruct-pl-lora_unload',\n",
       " 'open-llm-leaderboard/details_elyza__ELYZA-japanese-Llama-2-7b-fast-instruct',\n",
       " 'open-llm-leaderboard/details_jondurbin__airoboros-7b-gpt4-1.4',\n",
       " 'open-llm-leaderboard/details_mosaicml__mpt-7b-8k-chat',\n",
       " 'open-llm-leaderboard/details_openlm-research__open_llama_13b',\n",
       " 'open-llm-leaderboard/details_TheBloke__koala-7B-HF',\n",
       " 'open-llm-leaderboard/details_togethercomputer__RedPajama-INCITE-7B-Instruct',\n",
       " 'open-llm-leaderboard/details_klosax__open_llama_13b_600bt_preview',\n",
       " 'open-llm-leaderboard/details_togethercomputer__RedPajama-INCITE-Base-7B-v0.1',\n",
       " 'open-llm-leaderboard/details_digitous__Javalion-R',\n",
       " 'open-llm-leaderboard/details_digitous__Skegma-GPTJ',\n",
       " 'open-llm-leaderboard/details_TehVenom__ChanMalion',\n",
       " 'open-llm-leaderboard/details_KoboldAI__OPT-13B-Nerybus-Mix',\n",
       " 'open-llm-leaderboard/details_KoboldAI__OPT-6.7B-Erebus',\n",
       " 'open-llm-leaderboard/details_Writer__camel-5b-hf',\n",
       " 'open-llm-leaderboard/details_pythainlp__wangchanglm-7.5B-sft-en-sharded',\n",
       " 'open-llm-leaderboard/details_facebook__opt-iml-max-1.3b',\n",
       " 'open-llm-leaderboard/details_RWKV__rwkv-raven-1b5',\n",
       " 'open-llm-leaderboard/details_rinna__bilingual-gpt-neox-4b',\n",
       " 'open-llm-leaderboard/details_YeungNLP__firefly-bloom-2b6-v2',\n",
       " 'open-llm-leaderboard/details_yhyhy3__med-orca-instruct-33b',\n",
       " 'open-llm-leaderboard/details_PygmalionAI__pygmalion-350m',\n",
       " 'open-llm-leaderboard/details_vicgalle__alpaca-7b',\n",
       " 'open-llm-leaderboard/details_microsoft__CodeGPT-small-py',\n",
       " 'open-llm-leaderboard/details_EleutherAI__gpt-neo-125m',\n",
       " 'open-llm-leaderboard/details_Locutusque__gpt2-conversational-or-qa']"
      ]
     },
     "execution_count": 5,
     "metadata": {},
     "output_type": "execute_result"
    }
   ],
   "source": [
    "data['data'][sub]['models']"
   ]
  },
  {
   "cell_type": "code",
   "execution_count": 15,
   "id": "317243a0",
   "metadata": {},
   "outputs": [
    {
     "name": "stdout",
     "output_type": "stream",
     "text": [
      "harness_hendrycksTest_abstract_algebra_5 50\n",
      "harness_hendrycksTest_anatomy_5 50\n",
      "harness_hendrycksTest_astronomy_5 50\n",
      "harness_hendrycksTest_business_ethics_5 50\n",
      "harness_hendrycksTest_clinical_knowledge_5 50\n",
      "harness_hendrycksTest_college_biology_5 50\n",
      "harness_hendrycksTest_college_chemistry_5 50\n",
      "harness_hendrycksTest_college_computer_science_5 50\n",
      "harness_hendrycksTest_college_mathematics_5 50\n",
      "harness_hendrycksTest_college_medicine_5 50\n",
      "harness_hendrycksTest_college_physics_5 50\n",
      "harness_hendrycksTest_computer_security_5 50\n",
      "harness_hendrycksTest_conceptual_physics_5 50\n",
      "harness_hendrycksTest_econometrics_5 50\n",
      "harness_hendrycksTest_electrical_engineering_5 50\n",
      "harness_hendrycksTest_elementary_mathematics_5 50\n",
      "harness_hendrycksTest_formal_logic_5 50\n",
      "harness_hendrycksTest_global_facts_5 50\n",
      "harness_hendrycksTest_high_school_biology_5 50\n",
      "harness_hendrycksTest_high_school_chemistry_5 50\n",
      "harness_hendrycksTest_high_school_computer_science_5 50\n",
      "harness_hendrycksTest_high_school_european_history_5 50\n",
      "harness_hendrycksTest_high_school_geography_5 50\n",
      "harness_hendrycksTest_high_school_government_and_politics_5 50\n",
      "harness_hendrycksTest_high_school_macroeconomics_5 50\n",
      "harness_hendrycksTest_high_school_mathematics_5 50\n",
      "harness_hendrycksTest_high_school_microeconomics_5 50\n",
      "harness_hendrycksTest_high_school_physics_5 50\n",
      "harness_hendrycksTest_high_school_psychology_5 50\n",
      "harness_hendrycksTest_high_school_statistics_5 50\n",
      "harness_hendrycksTest_high_school_us_history_5 50\n",
      "harness_hendrycksTest_high_school_world_history_5 50\n",
      "harness_hendrycksTest_human_aging_5 50\n",
      "harness_hendrycksTest_human_sexuality_5 50\n",
      "harness_hendrycksTest_international_law_5 50\n",
      "harness_hendrycksTest_jurisprudence_5 50\n",
      "harness_hendrycksTest_logical_fallacies_5 50\n",
      "harness_hendrycksTest_machine_learning_5 50\n",
      "harness_hendrycksTest_management_5 50\n",
      "harness_hendrycksTest_marketing_5 50\n",
      "harness_hendrycksTest_medical_genetics_5 50\n",
      "harness_hendrycksTest_miscellaneous_5 50\n",
      "harness_hendrycksTest_moral_disputes_5 50\n",
      "harness_hendrycksTest_moral_scenarios_5 50\n",
      "harness_hendrycksTest_nutrition_5 50\n",
      "harness_hendrycksTest_philosophy_5 50\n",
      "harness_hendrycksTest_prehistory_5 50\n",
      "harness_hendrycksTest_professional_accounting_5 50\n",
      "harness_hendrycksTest_professional_law_5 50\n",
      "harness_hendrycksTest_professional_medicine_5 50\n",
      "harness_hendrycksTest_professional_psychology_5 50\n",
      "harness_hendrycksTest_public_relations_5 50\n",
      "harness_hendrycksTest_security_studies_5 50\n",
      "harness_hendrycksTest_sociology_5 50\n",
      "harness_hendrycksTest_us_foreign_policy_5 50\n",
      "harness_hendrycksTest_virology_5 50\n",
      "harness_hendrycksTest_world_religions_5 50\n",
      "harness_arc_challenge_25 50\n",
      "harness_hellaswag_10 50\n",
      "harness_hendrycksTest_5 48\n",
      "harness_truthfulqa_mc_0 0\n",
      "harness_winogrande_5 54\n",
      "harness_gsm8k_5 54\n"
     ]
    }
   ],
   "source": [
    "for sub in df[list(df.keys())[0]].keys():\n",
    "    print(sub,len(data['data'][sub]['models']))"
   ]
  },
  {
   "cell_type": "code",
   "execution_count": null,
   "id": "e5221ca5",
   "metadata": {},
   "outputs": [],
   "source": []
  }
 ],
 "metadata": {
  "kernelspec": {
   "display_name": "Python 3 (ipykernel)",
   "language": "python",
   "name": "python3"
  },
  "language_info": {
   "codemirror_mode": {
    "name": "ipython",
    "version": 3
   },
   "file_extension": ".py",
   "mimetype": "text/x-python",
   "name": "python",
   "nbconvert_exporter": "python",
   "pygments_lexer": "ipython3",
   "version": "3.11.5"
  }
 },
 "nbformat": 4,
 "nbformat_minor": 5
}
