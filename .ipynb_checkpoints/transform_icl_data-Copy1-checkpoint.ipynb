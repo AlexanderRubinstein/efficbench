{
 "cells": [
  {
   "cell_type": "code",
   "execution_count": 1,
   "id": "c57d20e5",
   "metadata": {},
   "outputs": [],
   "source": [
    "import pickle\n",
    "import numpy as np"
   ]
  },
  {
   "cell_type": "code",
   "execution_count": 2,
   "id": "48ad153c",
   "metadata": {},
   "outputs": [],
   "source": [
    "with open('data/icl_ct.pickle', 'rb') as handle:\n",
    "    data = pickle.load(handle)"
   ]
  },
  {
   "cell_type": "code",
   "execution_count": 3,
   "id": "7cc20b73",
   "metadata": {},
   "outputs": [],
   "source": [
    "new_data = {}\n",
    "new_data['models'] = np.hstack([[model+\"-\"+m for m in data['models']] for model in data['data'].keys()]).tolist()\n",
    "new_data['data'] = {'icl_ct_2':{'correctness':np.hstack([data['data'][model]['correctness'] for model in data['data'].keys()])}}"
   ]
  },
  {
   "cell_type": "code",
   "execution_count": 4,
   "id": "02032c3c",
   "metadata": {},
   "outputs": [],
   "source": [
    "keep = np.hstack([data['data'][model]['missing_data'].sum(axis=1)==0 for model in data['data'].keys()])\n",
    "new_data['models'] = np.array(new_data['models'])[keep].tolist()\n",
    "new_data['data']['icl_ct_2']['correctness'] = new_data['data']['icl_ct_2']['correctness'][:,keep]"
   ]
  },
  {
   "cell_type": "code",
   "execution_count": 6,
   "id": "f45cb5a4",
   "metadata": {},
   "outputs": [
    {
     "data": {
      "text/plain": [
       "(600, 1420)"
      ]
     },
     "execution_count": 6,
     "metadata": {},
     "output_type": "execute_result"
    }
   ],
   "source": [
    "new_data['data']['icl_ct_2']['correctness'].shape"
   ]
  },
  {
   "cell_type": "code",
   "execution_count": 7,
   "id": "b2e41da6",
   "metadata": {},
   "outputs": [],
   "source": [
    "with open('data/icl_ct_2.pickle', 'wb') as handle:\n",
    "    pickle.dump(new_data, handle, protocol=pickle.HIGHEST_PROTOCOL)"
   ]
  },
  {
   "cell_type": "code",
   "execution_count": 8,
   "id": "2da54648",
   "metadata": {},
   "outputs": [
    {
     "data": {
      "text/plain": [
       "{'icl_ct_2': {'correctness': array([[0., 0., 0., ..., 0., 1., 0.],\n",
       "         [0., 0., 0., ..., 0., 1., 1.],\n",
       "         [0., 0., 0., ..., 1., 1., 1.],\n",
       "         ...,\n",
       "         [1., 1., 1., ..., 0., 0., 0.],\n",
       "         [1., 0., 0., ..., 0., 0., 0.],\n",
       "         [1., 1., 1., ..., 0., 0., 0.]])}}"
      ]
     },
     "execution_count": 8,
     "metadata": {},
     "output_type": "execute_result"
    }
   ],
   "source": [
    "new_data['data']"
   ]
  },
  {
   "cell_type": "code",
   "execution_count": null,
   "id": "3579c2b0",
   "metadata": {},
   "outputs": [],
   "source": []
  }
 ],
 "metadata": {
  "kernelspec": {
   "display_name": "Python 3 (ipykernel)",
   "language": "python",
   "name": "python3"
  },
  "language_info": {
   "codemirror_mode": {
    "name": "ipython",
    "version": 3
   },
   "file_extension": ".py",
   "mimetype": "text/x-python",
   "name": "python",
   "nbconvert_exporter": "python",
   "pygments_lexer": "ipython3",
   "version": "3.11.5"
  }
 },
 "nbformat": 4,
 "nbformat_minor": 5
}
