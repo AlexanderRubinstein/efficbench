{
 "cells": [
  {
   "cell_type": "code",
   "execution_count": 1,
   "id": "952aeda1",
   "metadata": {},
   "outputs": [],
   "source": [
    "import pickle\n",
    "import copy\n",
    "from experiments import *\n",
    "from utils import *"
   ]
  },
  {
   "cell_type": "markdown",
   "id": "8491d564",
   "metadata": {},
   "source": [
    "Definitions"
   ]
  },
  {
   "cell_type": "code",
   "execution_count": 2,
   "id": "ad64dc70",
   "metadata": {},
   "outputs": [],
   "source": [
    "scenarios = {'harness_truthfulqa_mc_0':['harness_truthfulqa_mc_0'],\n",
    "             'gsm8k':['harness_gsm8k_5'], \n",
    "             'winogrande':['harness_winogrande_5'], \n",
    "             'arc':['harness_arc_challenge_25'], \n",
    "             'hellaswag':['harness_hellaswag_10'],\n",
    "             'mmlu':['harness_hendrycksTest_abstract_algebra_5', \n",
    "                     'harness_hendrycksTest_anatomy_5', \n",
    "                     'harness_hendrycksTest_astronomy_5', \n",
    "                     'harness_hendrycksTest_business_ethics_5', \n",
    "                     'harness_hendrycksTest_clinical_knowledge_5', \n",
    "                     'harness_hendrycksTest_college_biology_5', \n",
    "                     'harness_hendrycksTest_college_chemistry_5', \n",
    "                     'harness_hendrycksTest_college_computer_science_5', \n",
    "                     'harness_hendrycksTest_college_mathematics_5', \n",
    "                     'harness_hendrycksTest_college_medicine_5', \n",
    "                     'harness_hendrycksTest_college_physics_5', \n",
    "                     'harness_hendrycksTest_computer_security_5', \n",
    "                     'harness_hendrycksTest_conceptual_physics_5', \n",
    "                     'harness_hendrycksTest_econometrics_5', \n",
    "                     'harness_hendrycksTest_electrical_engineering_5', \n",
    "                     'harness_hendrycksTest_elementary_mathematics_5', \n",
    "                     'harness_hendrycksTest_formal_logic_5', \n",
    "                     'harness_hendrycksTest_global_facts_5', \n",
    "                     'harness_hendrycksTest_high_school_biology_5', \n",
    "                     'harness_hendrycksTest_high_school_chemistry_5', \n",
    "                     'harness_hendrycksTest_high_school_computer_science_5', \n",
    "                     'harness_hendrycksTest_high_school_european_history_5', \n",
    "                     'harness_hendrycksTest_high_school_geography_5', \n",
    "                     'harness_hendrycksTest_high_school_government_and_politics_5', \n",
    "                     'harness_hendrycksTest_high_school_macroeconomics_5', \n",
    "                     'harness_hendrycksTest_high_school_mathematics_5', \n",
    "                     'harness_hendrycksTest_high_school_microeconomics_5', \n",
    "                     'harness_hendrycksTest_high_school_physics_5', \n",
    "                     'harness_hendrycksTest_high_school_psychology_5', \n",
    "                     'harness_hendrycksTest_high_school_statistics_5', \n",
    "                     'harness_hendrycksTest_high_school_us_history_5', \n",
    "                     'harness_hendrycksTest_high_school_world_history_5', \n",
    "                     'harness_hendrycksTest_human_aging_5', \n",
    "                     'harness_hendrycksTest_human_sexuality_5', \n",
    "                     'harness_hendrycksTest_international_law_5', \n",
    "                     'harness_hendrycksTest_jurisprudence_5', \n",
    "                     'harness_hendrycksTest_logical_fallacies_5', \n",
    "                     'harness_hendrycksTest_machine_learning_5', \n",
    "                     'harness_hendrycksTest_management_5', \n",
    "                     'harness_hendrycksTest_marketing_5', \n",
    "                     'harness_hendrycksTest_medical_genetics_5', \n",
    "                     'harness_hendrycksTest_miscellaneous_5', \n",
    "                     'harness_hendrycksTest_moral_disputes_5', \n",
    "                     'harness_hendrycksTest_moral_scenarios_5', \n",
    "                     'harness_hendrycksTest_nutrition_5', \n",
    "                     'harness_hendrycksTest_philosophy_5', \n",
    "                     'harness_hendrycksTest_prehistory_5', \n",
    "                     'harness_hendrycksTest_professional_accounting_5', \n",
    "                     'harness_hendrycksTest_professional_law_5', \n",
    "                     'harness_hendrycksTest_professional_medicine_5', \n",
    "                     'harness_hendrycksTest_professional_psychology_5',\n",
    "                     'harness_hendrycksTest_public_relations_5', \n",
    "                     'harness_hendrycksTest_security_studies_5', \n",
    "                     'harness_hendrycksTest_sociology_5', \n",
    "                     'harness_hendrycksTest_us_foreign_policy_5', \n",
    "                     'harness_hendrycksTest_virology_5', \n",
    "                     'harness_hendrycksTest_world_religions_5']}"
   ]
  },
  {
   "cell_type": "markdown",
   "id": "14725d5d",
   "metadata": {},
   "source": [
    "## Data"
   ]
  },
  {
   "cell_type": "markdown",
   "id": "16e324e4",
   "metadata": {},
   "source": [
    "Loading data"
   ]
  },
  {
   "cell_type": "code",
   "execution_count": 3,
   "id": "e3b24d52",
   "metadata": {},
   "outputs": [],
   "source": [
    "with open('data/lb.pickle', 'rb') as handle:\n",
    "    data = pickle.load(handle)"
   ]
  },
  {
   "cell_type": "markdown",
   "id": "797477e3",
   "metadata": {},
   "source": [
    "## Results"
   ]
  },
  {
   "cell_type": "code",
   "execution_count": 4,
   "id": "02ca743e",
   "metadata": {},
   "outputs": [],
   "source": [
    "device = 'cuda'\n",
    "iterations = 3\n",
    "Ds = [5, 10, 15] #"
   ]
  },
  {
   "cell_type": "code",
   "execution_count": 5,
   "id": "fa62189b",
   "metadata": {},
   "outputs": [
    {
     "data": {
      "text/plain": [
       "[[0, 1, 2, 3, 4, 5, 6, 7, 8, 9, 10, 11, 12, 13]]"
      ]
     },
     "execution_count": 5,
     "metadata": {},
     "output_type": "execute_result"
    }
   ],
   "source": [
    "set_of_rows = [list(range(14))]\n",
    "set_of_rows"
   ]
  },
  {
   "cell_type": "markdown",
   "id": "f81c6fd5",
   "metadata": {},
   "source": [
    "### Predicting accuracy"
   ]
  },
  {
   "cell_type": "markdown",
   "id": "a451897a",
   "metadata": {},
   "source": [
    "Full (one IRT model for all scenarios)"
   ]
  },
  {
   "cell_type": "code",
   "execution_count": null,
   "id": "45503ad8",
   "metadata": {},
   "outputs": [
    {
     "name": "stdout",
     "output_type": "stream",
     "text": [
      "\n",
      "Evaluating models [0, 1, 2, 3, 4, 5, 6, 7, 8, 9, 10, 11, 12, 13]\n",
      "\n",
      "i) choosing optimal D\n"
     ]
    },
    {
     "name": "stderr",
     "output_type": "stream",
     "text": [
      "100%|████████████████████████████████████████████| 3/3 [12:31<00:00, 250.48s/it]\n"
     ]
    },
    {
     "name": "stdout",
     "output_type": "stream",
     "text": [
      "- opt D= 5 errors= [0.03313352720344972, 0.0323492796353894, 0.03461135922621434] \n",
      "\n",
      "\n",
      "ii) choosing optimal lambdas\n"
     ]
    },
    {
     "name": "stderr",
     "output_type": "stream",
     "text": [
      "100%|██████████████████████████████████████████| 6/6 [00:00<00:00, 56679.78it/s]\n"
     ]
    },
    {
     "name": "stdout",
     "output_type": "stream",
     "text": [
      "{'random_gpirt': {'harness_truthfulqa_mc_0': {10: 0.11269969793541415, 25: 0.24100710323604774, 50: 0.38840567891609656, 75: 0.48786395336201316, 100: 0.5594988335387938}, 'gsm8k': {10: 0.1717999788985558, 25: 0.3414963489349516, 50: 0.5091275115375071, 75: 0.6087305358493296, 100: 0.674730939095803}, 'winogrande': {10: 0.02162499371855296, 25: 0.05236392981634653, 50: 0.09951677044933463, 75: 0.14219953636479346, 100: 0.18101910425370876}, 'arc': {10: 0.026624335007829267, 25: 0.06400471313278236, 50: 0.12030907822641362, 75: 0.17022387838906378, 100: 0.21477836887098628}, 'hellaswag': {10: 0.02129072734728272, 25: 0.05157956857148776, 50: 0.09809922161488117, 75: 0.14026870693852422, 100: 0.17867096102775668}, 'mmlu': {10: 0.019161587067350962, 25: 0.04656556254675759, 50: 0.08898737778728921, 75: 0.12779499589156973, 100: 0.16343142189233167}}, 'anchor_gpirt': {'harness_truthfulqa_mc_0': {10: 0.33689492342405886, 25: 0.5594988335387938, 50: 0.7175367130851731, 75: 0.7921181446751083, 100: 0.8355416307768792}, 'gsm8k': {10: 0.45347759291363304, 25: 0.674730939095803, 50: 0.8057783173935917, 75: 0.8615559316269653, 100: 0.8924443378593989}, 'winogrande': {10: 0.0812301691794256, 25: 0.18101910425370876, 50: 0.3065472922524747, 75: 0.3987093088645676, 100: 0.4692479086983375}, 'arc': {10: 0.0986202447286852, 25: 0.21477836887098628, 50: 0.35360914282759426, 75: 0.45072370309044557, 100: 0.5224686087579603}, 'hellaswag': {10: 0.080049944745882, 25: 0.17867096102775668, 50: 0.30317360304178925, 75: 0.3948989376763299, 100: 0.465285058466715}, 'mmlu': {10: 0.07247986078047992, 25: 0.16343142189233167, 50: 0.28094723731375415, 75: 0.36951390113427945, 100: 0.4386554404893715}}, 'anchor-irt_gpirt': {'harness_truthfulqa_mc_0': {10: 0.33689492342405886, 25: 0.5594988335387938, 50: 0.7175367130851731, 75: 0.7921181446751083, 100: 0.8355416307768792}, 'gsm8k': {10: 0.45347759291363304, 25: 0.674730939095803, 50: 0.8057783173935917, 75: 0.8615559316269653, 100: 0.8924443378593989}, 'winogrande': {10: 0.0812301691794256, 25: 0.18101910425370876, 50: 0.3065472922524747, 75: 0.3987093088645676, 100: 0.4692479086983375}, 'arc': {10: 0.0986202447286852, 25: 0.21477836887098628, 50: 0.35360914282759426, 75: 0.45072370309044557, 100: 0.5224686087579603}, 'hellaswag': {10: 0.080049944745882, 25: 0.17867096102775668, 50: 0.30317360304178925, 75: 0.3948989376763299, 100: 0.465285058466715}, 'mmlu': {10: 0.07247986078047992, 25: 0.16343142189233167, 50: 0.28094723731375415, 75: 0.36951390113427945, 100: 0.4386554404893715}}}\n",
      "\n",
      "iii) running anchor points\n"
     ]
    },
    {
     "name": "stderr",
     "output_type": "stream",
     "text": [
      "100%|█████████████████████████████████████████| 5/5 [1:51:25<00:00, 1337.10s/it]\n"
     ]
    },
    {
     "name": "stdout",
     "output_type": "stream",
     "text": [
      "\n",
      "iv) running random eval\n"
     ]
    },
    {
     "name": "stderr",
     "output_type": "stream",
     "text": [
      "100%|██████████████████████████████████████████| 5/5 [1:12:55<00:00, 875.03s/it]\n"
     ]
    },
    {
     "name": "stdout",
     "output_type": "stream",
     "text": [
      "\n",
      "v) running anchor points with IRT embeddings\n"
     ]
    },
    {
     "name": "stderr",
     "output_type": "stream",
     "text": [
      " 40%|████████████████▍                        | 2/5 [43:53<1:05:17, 1305.76s/it]"
     ]
    }
   ],
   "source": [
    "scenario_name = 'full' #we are evaluating all scenarios at once\n",
    "chosen_scenarios = list(scenarios.keys())\n",
    "sampling = {'random_sampling':True,'anchor_sampling':True,\n",
    "            'anchor-irt_sampling':True,'disc_sampling':False}\n",
    "results_full, accs_full = evaluate_scenarios(data, scenario_name, chosen_scenarios, scenarios, set_of_rows, Ds, iterations, device, bench='irt_lb', sampling = sampling)"
   ]
  },
  {
   "cell_type": "code",
   "execution_count": null,
   "id": "7735c05e",
   "metadata": {},
   "outputs": [],
   "source": [
    "with open('results/results_full_lb.pickle', 'wb') as handle:\n",
    "    pickle.dump(results_full, handle, protocol=pickle.HIGHEST_PROTOCOL)\n",
    "    \n",
    "with open('results/accs_full_lb.pickle', 'wb') as handle:\n",
    "    pickle.dump(accs_full, handle, protocol=pickle.HIGHEST_PROTOCOL)"
   ]
  },
  {
   "cell_type": "code",
   "execution_count": null,
   "id": "187416b1",
   "metadata": {},
   "outputs": [],
   "source": [
    "with open('results/results_full_lb.pickle', 'rb') as handle:\n",
    "    results_full = pickle.load(handle)"
   ]
  },
  {
   "cell_type": "code",
   "execution_count": null,
   "id": "c20c7d5f",
   "metadata": {},
   "outputs": [],
   "source": [
    "methods = ['anchor_naive', 'anchor_cirt', 'anchor_pirt', 'anchor_gpirt']\n",
    "plot_results(results_full, scenarios.keys(), methods = methods)\n",
    "plot_agg_results(results_full, scenarios.keys(), methods = methods)"
   ]
  },
  {
   "cell_type": "code",
   "execution_count": null,
   "id": "8126a1d3",
   "metadata": {},
   "outputs": [],
   "source": [
    "methods = ['anchor-irt_naive', 'anchor-irt_cirt', 'anchor-irt_pirt', 'anchor-irt_gpirt']\n",
    "plot_results(results_full, scenarios.keys(), methods = methods)\n",
    "plot_agg_results(results_full, scenarios.keys(), methods = methods)"
   ]
  },
  {
   "cell_type": "code",
   "execution_count": null,
   "id": "87f46a6a",
   "metadata": {},
   "outputs": [],
   "source": [
    "methods = ['random_naive', 'random_cirt', 'random_pirt', 'random_gpirt']\n",
    "plot_results(results_full, scenarios.keys(), methods = methods)\n",
    "plot_agg_results(results_full, scenarios.keys(), methods = methods)"
   ]
  },
  {
   "cell_type": "code",
   "execution_count": null,
   "id": "21a31f42",
   "metadata": {},
   "outputs": [],
   "source": []
  },
  {
   "cell_type": "code",
   "execution_count": null,
   "id": "bc27efdd",
   "metadata": {},
   "outputs": [],
   "source": []
  },
  {
   "cell_type": "code",
   "execution_count": null,
   "id": "a979a9af",
   "metadata": {},
   "outputs": [],
   "source": [
    "with open('results/results_full_lb_perf.pickle', 'rb') as handle:\n",
    "    results_full = pickle.load(handle)"
   ]
  },
  {
   "cell_type": "code",
   "execution_count": null,
   "id": "02281c34",
   "metadata": {},
   "outputs": [],
   "source": [
    "methods = ['anchor-irt_naive', 'anchor-irt_cirt', 'anchor-irt_pirt', 'anchor-irt_gpirt']\n",
    "plot_results(results_full, scenarios.keys(), methods = methods)\n",
    "plot_agg_results(results_full, scenarios.keys(), methods = methods)"
   ]
  },
  {
   "cell_type": "code",
   "execution_count": null,
   "id": "c7279978",
   "metadata": {},
   "outputs": [],
   "source": [
    "methods = ['anchor_naive', 'anchor_cirt', 'anchor_pirt', 'anchor_gpirt']\n",
    "plot_results(results_full, scenarios.keys(), methods = methods)\n",
    "plot_agg_results(results_full, scenarios.keys(), methods = methods)"
   ]
  },
  {
   "cell_type": "code",
   "execution_count": null,
   "id": "a718a627",
   "metadata": {},
   "outputs": [],
   "source": [
    "methods = ['random_naive', 'random_cirt', 'random_pirt', 'random_gpirt']\n",
    "plot_results(results_full, scenarios.keys(), methods = methods)\n",
    "plot_agg_results(results_full, scenarios.keys(), methods = methods)"
   ]
  },
  {
   "cell_type": "code",
   "execution_count": null,
   "id": "62ef42b8",
   "metadata": {},
   "outputs": [],
   "source": []
  }
 ],
 "metadata": {
  "kernelspec": {
   "display_name": "Python 3 (ipykernel)",
   "language": "python",
   "name": "python3"
  },
  "language_info": {
   "codemirror_mode": {
    "name": "ipython",
    "version": 3
   },
   "file_extension": ".py",
   "mimetype": "text/x-python",
   "name": "python",
   "nbconvert_exporter": "python",
   "pygments_lexer": "ipython3",
   "version": "3.11.5"
  }
 },
 "nbformat": 4,
 "nbformat_minor": 5
}
