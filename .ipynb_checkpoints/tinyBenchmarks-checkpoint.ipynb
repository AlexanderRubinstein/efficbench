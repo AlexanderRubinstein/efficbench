{
 "cells": [
  {
   "cell_type": "code",
   "execution_count": 1,
   "id": "87d6b9d1",
   "metadata": {},
   "outputs": [],
   "source": [
    "import pickle\n",
    "import copy\n",
    "import pandas as pd\n",
    "import matplotlib\n",
    "import matplotlib.pyplot as plt\n",
    "import numpy as np"
   ]
  },
  {
   "cell_type": "code",
   "execution_count": 2,
   "id": "e2e0e43e",
   "metadata": {},
   "outputs": [],
   "source": [
    "benchs = ['lb', 'mmlu', 'helm_lite', 'alpaca']\n",
    "number_item = 100\n",
    "method = 'anchor-irt'\n",
    "tinyBenchmarks = {}"
   ]
  },
  {
   "cell_type": "code",
   "execution_count": 4,
   "id": "5e445fd7",
   "metadata": {},
   "outputs": [
    {
     "name": "stdout",
     "output_type": "stream",
     "text": [
      "lb 0.018127779895138887 [0.02047152 0.02068844 0.01857669 0.01812778 0.02016862]\n",
      "mmlu 0.024082251076550446 [0.026144   0.02591576 0.02805555 0.02576776 0.02408225]\n",
      "helm_lite 0.025932711015329447 [0.02657301 0.03014362 0.0282301  0.02593271 0.02686508]\n",
      "alpaca 0.011602607838921739 [0.01365071 0.01160261 0.01216845 0.01365583 0.01164006]\n"
     ]
    }
   ],
   "source": [
    "for bench in benchs:\n",
    "    with open(f'results/samples_{bench}_iterations-5.pickle', 'rb') as handle:\n",
    "        sample_data = pickle.load(handle)\n",
    "\n",
    "    scenarios = list(sample_data['scenarios_position'].keys())\n",
    "\n",
    "    with open(f'results/results_{bench}_split-iid_iterations-5.pickle', 'rb') as handle:\n",
    "        results = pickle.load(handle)\n",
    "        avg_error = np.mean([np.mean([results[it][number_item][method+\"_naive\"][scenario] for it in results.keys()],axis=0) for scenario in scenarios], axis=0)\n",
    "    \n",
    "    print(bench,np.min(avg_error),avg_error)\n",
    "    best_it = np.argmin(avg_error)\n",
    "    \n",
    "    optimal_lambdas = {}\n",
    "    for scenario in scenarios:\n",
    "        optimal_lambdas[scenario] = .5 #sample_data['opt_lambds'][method+\"_gpirt\"][scenario][number_item]\n",
    "    \n",
    "    tinyBenchmarks[bench] = {'seen_examples':sample_data['seen_items'][method][number_item][best_it],\n",
    "                             'examples_weights':sample_data['item_weights'][method][number_item][best_it],\n",
    "                             'irt_parameters':{\"A\":sample_data[\"A\"], \"B\":sample_data[\"B\"]},\n",
    "                             'scenarios_position':sample_data['scenarios_position'],\n",
    "                             'subscenarios_position':sample_data['subscenarios_position'],\n",
    "                             'optimal_lambdas':optimal_lambdas}"
   ]
  },
  {
   "cell_type": "code",
   "execution_count": 5,
   "id": "e3d28287",
   "metadata": {},
   "outputs": [],
   "source": [
    "with open('results/tinyBenchmarks.pkl', 'wb') as f:\n",
    "    pickle.dump(tinyBenchmarks, f)"
   ]
  },
  {
   "cell_type": "code",
   "execution_count": null,
   "id": "3995e7a5",
   "metadata": {},
   "outputs": [],
   "source": []
  }
 ],
 "metadata": {
  "kernelspec": {
   "display_name": "Python 3 (ipykernel)",
   "language": "python",
   "name": "python3"
  },
  "language_info": {
   "codemirror_mode": {
    "name": "ipython",
    "version": 3
   },
   "file_extension": ".py",
   "mimetype": "text/x-python",
   "name": "python",
   "nbconvert_exporter": "python",
   "pygments_lexer": "ipython3",
   "version": "3.11.5"
  }
 },
 "nbformat": 4,
 "nbformat_minor": 5
}
