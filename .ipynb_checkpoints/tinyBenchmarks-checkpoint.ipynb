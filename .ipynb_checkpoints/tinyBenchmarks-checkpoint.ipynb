{
 "cells": [
  {
   "cell_type": "code",
   "execution_count": 1,
   "id": "87d6b9d1",
   "metadata": {},
   "outputs": [],
   "source": [
    "import pickle\n",
    "import copy\n",
    "import pandas as pd\n",
    "import matplotlib\n",
    "import matplotlib.pyplot as plt\n",
    "import numpy as np"
   ]
  },
  {
   "cell_type": "code",
   "execution_count": 2,
   "id": "e2e0e43e",
   "metadata": {},
   "outputs": [],
   "source": [
    "benchs = ['lb', 'mmlu', 'helm_lite', 'alpaca']\n",
    "number_item = 100\n",
    "method = 'anchor-irt'\n",
    "tinyBenchmarks = {}"
   ]
  },
  {
   "cell_type": "code",
   "execution_count": 4,
   "id": "5e445fd7",
   "metadata": {},
   "outputs": [
    {
     "name": "stdout",
     "output_type": "stream",
     "text": [
      "lb 0.018127779895138887 [0.02047152 0.02068844 0.01857669 0.01812778 0.02016862]\n",
      "mmlu 0.024082251076550446 [0.026144   0.02591576 0.02805555 0.02576776 0.02408225]\n",
      "helm_lite 0.025932711015329447 [0.02657301 0.03014362 0.0282301  0.02593271 0.02686508]\n",
      "alpaca 0.011602607838921739 [0.01365071 0.01160261 0.01216845 0.01365583 0.01164006]\n"
     ]
    }
   ],
   "source": [
    "for bench in benchs:\n",
    "    with open(f'results/samples_{bench}_iterations-5.pickle', 'rb') as handle:\n",
    "        sample_data = pickle.load(handle)\n",
    "\n",
    "    scenarios = list(sample_data['scenarios_position'].keys())\n",
    "\n",
    "    with open(f'results/results_{bench}_split-iid_iterations-5.pickle', 'rb') as handle:\n",
    "        results = pickle.load(handle)\n",
    "        avg_error = np.mean([np.mean([results[it][number_item][method+\"_naive\"][scenario] for it in results.keys()],axis=0) for scenario in scenarios], axis=0)\n",
    "    \n",
    "    print(bench,np.min(avg_error),avg_error)\n",
    "    best_it = np.argmin(avg_error)\n",
    "    \n",
    "    optimal_lambdas = {}\n",
    "    for scenario in scenarios:\n",
    "        optimal_lambdas[scenario] = .5 #sample_data['opt_lambds'][method+\"_gpirt\"][scenario][number_item]\n",
    "    \n",
    "    tinyBenchmarks[bench] = {'seen_examples':sample_data['seen_items'][method][number_item][best_it],\n",
    "                             'examples_weights':sample_data['item_weights'][method][number_item][best_it],\n",
    "                             'irt_parameters':{\"A\":sample_data[\"A\"], \"B\":sample_data[\"B\"]},\n",
    "                             'scenarios_position':sample_data['scenarios_position'],\n",
    "                             'subscenarios_position':sample_data['subscenarios_position'],\n",
    "                             'optimal_lambdas':optimal_lambdas}"
   ]
  },
  {
   "cell_type": "code",
   "execution_count": 5,
   "id": "e3d28287",
   "metadata": {},
   "outputs": [],
   "source": [
    "with open('tinyBenchmarks.pkl', 'wb') as f:\n",
    "    pickle.dump(tinyBenchmarks, f)"
   ]
  },
  {
   "cell_type": "code",
   "execution_count": 3,
   "id": "1a0b727f",
   "metadata": {},
   "outputs": [
    {
     "data": {
      "text/plain": [
       "{'harness_truthfulqa_mc_0': {'irt': 0.5348837209302325,\n",
       "  'pirt': 0.5212710930243036,\n",
       "  'gpirt': 0.528077406977268},\n",
       " 'gsm8k': {'irt': 0.6125852918877936,\n",
       "  'pirt': 0.5515895737660961,\n",
       "  'gpirt': 0.5820874328269449},\n",
       " 'winogrande': {'irt': 0.5374901341752171,\n",
       "  'pirt': 0.4784850637507187,\n",
       "  'gpirt': 0.5079875989629679},\n",
       " 'arc': {'irt': 0.4863481228668942,\n",
       "  'pirt': 0.4756461693373306,\n",
       "  'gpirt': 0.4809971461021124},\n",
       " 'hellaswag': {'irt': 0.4303923521210914,\n",
       "  'pirt': 0.4847432751892539,\n",
       "  'gpirt': 0.45756781365517263},\n",
       " 'mmlu': {'irt': 0.4306957893341643,\n",
       "  'pirt': 0.49958991605315767,\n",
       "  'gpirt': 0.46514285269366096}}"
      ]
     },
     "execution_count": 3,
     "metadata": {},
     "output_type": "execute_result"
    }
   ],
   "source": [
    "### Parameters\n",
    "bench = 'lb' # chosen from possible benchmarks in ['lb', 'mmlu', 'helm_lite', 'alpaca']\n",
    "y_input = np.random.binomial(1,.5, 600) # dummy data (in bench='lb' we have 6 scenarios and 100 examples per scenario)\n",
    "\n",
    "### Evaluation\n",
    "tb.evaluate(y_input, bench)"
   ]
  },
  {
   "cell_type": "code",
   "execution_count": 12,
   "id": "182082eb",
   "metadata": {
    "scrolled": true
   },
   "outputs": [
    {
     "data": {
      "text/plain": [
       "{'harness_truthfulqa_mc_0': {'irt': 0.5483476132190942,\n",
       "  'pirt': 0.5216756041366227,\n",
       "  'gpirt': 0.5350116086778585},\n",
       " 'gsm8k': {'irt': 0.5132676269901439,\n",
       "  'pirt': 0.5328183759663551,\n",
       "  'gpirt': 0.5230430014782494},\n",
       " 'winogrande': {'irt': 0.4301499605367009,\n",
       "  'pirt': 0.4792754277690377,\n",
       "  'gpirt': 0.4547126941528693},\n",
       " 'arc': {'irt': 0.5520477815699659,\n",
       "  'pirt': 0.5066457168990404,\n",
       "  'gpirt': 0.5293467492345032},\n",
       " 'hellaswag': {'irt': 0.5338577972515436,\n",
       "  'pirt': 0.5108037778592825,\n",
       "  'gpirt': 0.5223307875554131},\n",
       " 'mmlu': {'irt': 0.5377958382081949,\n",
       "  'pirt': 0.5393624918280722,\n",
       "  'gpirt': 0.5385791650181335}}"
      ]
     },
     "execution_count": 12,
     "metadata": {},
     "output_type": "execute_result"
    }
   ],
   "source": []
  },
  {
   "cell_type": "code",
   "execution_count": 1,
   "id": "5dcd8cef",
   "metadata": {},
   "outputs": [],
   "source": [
    "import pickle\n",
    "import numpy as np\n",
    "from scipy.optimize import minimize\n",
    "\n",
    "### Utility functions\n",
    "def sigmoid(z):\n",
    "    return 1/(1+np.exp(-z))\n",
    "\n",
    "def item_curve(theta, a, b):\n",
    "    z = np.clip(a*theta - b, -30, 30).sum(axis=1)\n",
    "    return sigmoid(z)\n",
    "\n",
    "def fit_theta(responses_test, seen_items, A, B, theta_init=None, eps=1e-10, optimizer=\"BFGS\"):\n",
    "    D = A.shape[1]\n",
    "    # Define the negative log likelihood function\n",
    "    def neg_log_like(x):\n",
    "        P = item_curve(x.reshape(1, D, 1), A[:, :, seen_items], B[:, :, seen_items]).squeeze()\n",
    "        log_likelihood = np.sum(responses_test[seen_items] * np.log(P + eps) + (1 - responses_test[seen_items]) * np.log(1 - P + eps))\n",
    "        return -log_likelihood\n",
    "    # Use the minimize function to find the ability parameters that minimize the negative log likelihood\n",
    "    optimal_theta = minimize(neg_log_like, np.zeros(D), method = optimizer).x[None,:,None] \n",
    "    return optimal_theta\n",
    "\n",
    "### Evaluation function\n",
    "def evaluate(y_input, bench):\n",
    "              \n",
    "    assert len(y_input.shape)==1, \"y_input must be a unidimensional numpy array.\"\n",
    "    assert bench in ['lb', 'mmlu', 'helm_lite', 'alpaca']\n",
    "    \n",
    "    ### Loading and creating important objects\n",
    "    number_of_examples = 100\n",
    "    with open('tinyBenchmarks.pkl', 'rb') as handle:\n",
    "        tinyBenchmarks = pickle.load(handle)\n",
    "\n",
    "    seen_examples = tinyBenchmarks[bench]['seen_examples']\n",
    "    examples_weights = tinyBenchmarks[bench]['examples_weights']\n",
    "    irt_parameters = tinyBenchmarks[bench]['irt_parameters']\n",
    "    A, B = irt_parameters['A'], irt_parameters['B']\n",
    "    optimal_lambdas = tinyBenchmarks[bench]['optimal_lambdas']\n",
    "    scenarios_position = tinyBenchmarks[bench]['scenarios_position']\n",
    "    subscenarios_position = tinyBenchmarks[bench]['subscenarios_position']\n",
    "\n",
    "    N = np.max([np.max(x) for x in scenarios_position.values()])+1\n",
    "    balance_weights = np.ones(N)\n",
    "    for scenario in scenarios_position.keys():\n",
    "        N_sce = len(scenarios_position[scenario])\n",
    "        n_sub = len(subscenarios_position[scenario])\n",
    "        for sub in subscenarios_position[scenario].keys():\n",
    "            n_i = len(subscenarios_position[scenario][sub])\n",
    "        balance_weights[subscenarios_position[scenario][sub]] = N_sce/(n_sub*n_i) \n",
    "\n",
    "    ### Creating vector y and estimating theta\n",
    "    y = np.zeros(N)\n",
    "    for i, j in enumerate(seen_examples):\n",
    "        y[j] = y_input[i]\n",
    "\n",
    "    ### Getting estimates\n",
    "    theta = fit_theta(y, seen_examples, A, B)\n",
    "    estimates = {}\n",
    "    unseen_examples = [i for i in range(N) if i not in seen_examples]\n",
    "\n",
    "    for scenario in scenarios_position.keys():\n",
    "\n",
    "        N_sce = len(scenarios_position[scenario])\n",
    "        seen_examples_sce = [s for s in seen_examples if s in scenarios_position[scenario]]\n",
    "        unseen_examples_sce = [s for s in unseen_examples if s in scenarios_position[scenario]]\n",
    "\n",
    "        data_part_IRTp = ((balance_weights*y)[seen_examples_sce]).mean()\n",
    "        irt_part = (balance_weights*item_curve(theta.reshape(1, A.shape[1], 1), A, B))[0, [unseen_examples_sce]].mean()\n",
    "        IRTp_lambd = number_of_examples/N_sce\n",
    "        IRT = (examples_weights[scenario]*y[seen_examples_sce]).sum()\n",
    "        IRTp = IRTp_lambd * data_part_IRTp + (1 - IRTp_lambd) * irt_part\n",
    "        IRTpp = optimal_lambdas[scenario]*IRT + (1-optimal_lambdas[scenario])*IRTp\n",
    "\n",
    "        estimates[scenario] = {}\n",
    "        estimates[scenario]['irt'] = IRT\n",
    "        estimates[scenario]['pirt'] = IRTp\n",
    "        estimates[scenario]['gpirt'] = IRTpp\n",
    "        \n",
    "    return estimates"
   ]
  },
  {
   "cell_type": "code",
   "execution_count": null,
   "id": "3995e7a5",
   "metadata": {},
   "outputs": [],
   "source": []
  }
 ],
 "metadata": {
  "kernelspec": {
   "display_name": "Python 3 (ipykernel)",
   "language": "python",
   "name": "python3"
  },
  "language_info": {
   "codemirror_mode": {
    "name": "ipython",
    "version": 3
   },
   "file_extension": ".py",
   "mimetype": "text/x-python",
   "name": "python",
   "nbconvert_exporter": "python",
   "pygments_lexer": "ipython3",
   "version": "3.11.7"
  }
 },
 "nbformat": 4,
 "nbformat_minor": 5
}
