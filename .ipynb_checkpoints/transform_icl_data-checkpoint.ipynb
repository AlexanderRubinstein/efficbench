{
 "cells": [
  {
   "cell_type": "code",
   "execution_count": 1,
   "id": "3c345e53",
   "metadata": {},
   "outputs": [],
   "source": [
    "import pickle\n",
    "import numpy as np"
   ]
  },
  {
   "cell_type": "code",
   "execution_count": 2,
   "id": "cdfe3d8f",
   "metadata": {},
   "outputs": [],
   "source": [
    "with open('data/icl_ct.pickle', 'rb') as handle:\n",
    "    data = pickle.load(handle)"
   ]
  },
  {
   "cell_type": "code",
   "execution_count": 3,
   "id": "c8777e49",
   "metadata": {},
   "outputs": [],
   "source": [
    "new_data = {}\n",
    "new_data['models'] = np.hstack([[model+\"-\"+m for m in data['models']] for model in data['data'].keys()]).tolist()\n",
    "new_data['data'] = {'icl_ct_2':np.hstack([data['data'][model]['correctness'] for model in data['data'].keys()])}"
   ]
  },
  {
   "cell_type": "code",
   "execution_count": 4,
   "id": "1b1da21c",
   "metadata": {},
   "outputs": [],
   "source": [
    "keep = np.hstack([data['data'][model]['missing_data'].sum(axis=1)==0 for model in data['data'].keys()])\n",
    "new_data['models'] = np.array(new_data['models'])[keep].tolist()\n",
    "new_data['data']['icl_ct_2'] = new_data['data']['icl_ct_2'][:,keep]"
   ]
  },
  {
   "cell_type": "code",
   "execution_count": 5,
   "id": "f52054e1",
   "metadata": {},
   "outputs": [
    {
     "data": {
      "text/plain": [
       "(600, 1420)"
      ]
     },
     "execution_count": 5,
     "metadata": {},
     "output_type": "execute_result"
    }
   ],
   "source": [
    "new_data['data']['icl_ct_2'].shape"
   ]
  },
  {
   "cell_type": "code",
   "execution_count": 6,
   "id": "bd224427",
   "metadata": {},
   "outputs": [],
   "source": [
    "with open('data/icl_ct_2.pickle', 'wb') as handle:\n",
    "    pickle.dump(new_data, handle, protocol=pickle.HIGHEST_PROTOCOL)"
   ]
  }
 ],
 "metadata": {
  "kernelspec": {
   "display_name": "Python 3 (ipykernel)",
   "language": "python",
   "name": "python3"
  },
  "language_info": {
   "codemirror_mode": {
    "name": "ipython",
    "version": 3
   },
   "file_extension": ".py",
   "mimetype": "text/x-python",
   "name": "python",
   "nbconvert_exporter": "python",
   "pygments_lexer": "ipython3",
   "version": "3.11.5"
  }
 },
 "nbformat": 4,
 "nbformat_minor": 5
}
