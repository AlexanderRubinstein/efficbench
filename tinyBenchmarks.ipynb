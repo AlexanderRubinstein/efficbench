{
 "cells": [
  {
   "cell_type": "code",
   "execution_count": 1,
   "id": "87d6b9d1",
   "metadata": {},
   "outputs": [],
   "source": [
    "import pickle\n",
    "import copy\n",
    "import pandas as pd\n",
    "import matplotlib\n",
    "import matplotlib.pyplot as plt\n",
    "import numpy as np"
   ]
  },
  {
   "cell_type": "code",
   "execution_count": 2,
   "id": "e2e0e43e",
   "metadata": {},
   "outputs": [],
   "source": [
    "benchs = ['lb', 'mmlu', 'helm_lite', 'alpaca']\n",
    "number_item = 100\n",
    "method = 'anchor-irt'\n",
    "tinyBenchmarks = {}"
   ]
  },
  {
   "cell_type": "code",
   "execution_count": 3,
   "id": "5e445fd7",
   "metadata": {},
   "outputs": [
    {
     "name": "stdout",
     "output_type": "stream",
     "text": [
      "lb 0.01906167653388267 [0.01906168 0.01998235 0.02033831 0.0202809  0.02015149]\n",
      "mmlu 0.024398970156813124 [0.02728616 0.02829303 0.03106703 0.02439897 0.03167772]\n",
      "helm_lite 0.0242250825876071 [0.02748594 0.02689979 0.02783222 0.02589602 0.02422508]\n",
      "alpaca 0.01119042421102733 [0.0116694  0.01212778 0.01119042 0.01195137 0.01160708]\n"
     ]
    }
   ],
   "source": [
    "for bench in benchs:\n",
    "    with open(f'results/samples_{bench}_iterations-5.pickle', 'rb') as handle:\n",
    "        sample_data = pickle.load(handle)\n",
    "\n",
    "    scenarios = list(sample_data['scenarios_position'].keys())\n",
    "\n",
    "    with open(f'results/results_{bench}_split-iid_iterations-5.pickle', 'rb') as handle:\n",
    "        results = pickle.load(handle)\n",
    "        avg_error = np.mean([np.mean([results[it][number_item][method+\"_naive\"][scenario] for it in results.keys()],axis=0) for scenario in scenarios], axis=0)\n",
    "    \n",
    "    print(bench,np.min(avg_error),avg_error)\n",
    "    best_it = np.argmin(avg_error)\n",
    "    \n",
    "    optimal_lambdas = {}\n",
    "    for scenario in scenarios:\n",
    "        optimal_lambdas[scenario] = sample_data['opt_lambds'][method+\"_gpirt\"][scenario][number_item]\n",
    "    \n",
    "    tinyBenchmarks[bench] = {'seen_examples':sample_data['seen_items'][method][number_item][best_it],\n",
    "                             'examples_weights':sample_data['item_weights'][method][number_item][best_it],\n",
    "                             'irt_parameters':{\"A\":sample_data[\"A\"], \"B\":sample_data[\"B\"]},\n",
    "                             'scenarios_position':sample_data['scenarios_position'],\n",
    "                             'subscenarios_position':sample_data['subscenarios_position'],\n",
    "                             'optimal_lambdas':optimal_lambdas}"
   ]
  },
  {
   "cell_type": "code",
   "execution_count": 4,
   "id": "e3d28287",
   "metadata": {},
   "outputs": [],
   "source": [
    "with open('results/tinyBenchmarks.pkl', 'wb') as f:\n",
    "    pickle.dump(tinyBenchmarks, f)"
   ]
  },
  {
   "cell_type": "code",
   "execution_count": 11,
   "id": "3995e7a5",
   "metadata": {},
   "outputs": [
    {
     "name": "stdout",
     "output_type": "stream",
     "text": [
      "Collecting git+https://github.com/felipemaiapolo/tinyBenchmarks\r\n",
      "  Cloning https://github.com/felipemaiapolo/tinyBenchmarks to /tmp/pip-req-build-2p36arzo\r\n",
      "  Running command git clone --filter=blob:none --quiet https://github.com/felipemaiapolo/tinyBenchmarks /tmp/pip-req-build-2p36arzo\r\n"
     ]
    }
   ],
   "source": [
    "!pip install git+https://github.com/felipemaiapolo/tinyBenchmarks"
   ]
  },
  {
   "cell_type": "code",
   "execution_count": null,
   "id": "ede16bd3",
   "metadata": {},
   "outputs": [],
   "source": []
  }
 ],
 "metadata": {
  "kernelspec": {
   "display_name": "Python 3 (ipykernel)",
   "language": "python",
   "name": "python3"
  },
  "language_info": {
   "codemirror_mode": {
    "name": "ipython",
    "version": 3
   },
   "file_extension": ".py",
   "mimetype": "text/x-python",
   "name": "python",
   "nbconvert_exporter": "python",
   "pygments_lexer": "ipython3",
   "version": "3.11.5"
  }
 },
 "nbformat": 4,
 "nbformat_minor": 5
}
