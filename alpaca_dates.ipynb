{
 "cells": [
  {
   "cell_type": "code",
   "execution_count": 28,
   "id": "5c75f67d",
   "metadata": {},
   "outputs": [],
   "source": [
    "import os\n",
    "import subprocess\n",
    "from datetime import datetime\n",
    "import numpy as np\n",
    "import pickle"
   ]
  },
  {
   "cell_type": "code",
   "execution_count": 29,
   "id": "51c4a9c2",
   "metadata": {},
   "outputs": [],
   "source": [
    "def get_last_commit_date(file_path, clone_path):\n",
    "    try:\n",
    "        # Use '--' to separate the file path\n",
    "        output = subprocess.check_output(['git', 'log', '-1', '--format=%cd', '--', file_path], cwd=clone_path)\n",
    "        return output.strip().decode('utf-8')\n",
    "    except subprocess.CalledProcessError as e:\n",
    "        print(f\"Error processing file {file_path}: {e}\")\n",
    "        return None\n"
   ]
  },
  {
   "cell_type": "code",
   "execution_count": 30,
   "id": "4279b5d9",
   "metadata": {},
   "outputs": [],
   "source": [
    "clone_path = '/home/skunk/efficbench/alpaca_eval'\n",
    "models_path = clone_path+'/results'\n",
    "models_names = [name for name in os.listdir(models_path) if os.path.isdir(os.path.join(models_path, name))]"
   ]
  },
  {
   "cell_type": "code",
   "execution_count": 31,
   "id": "eaca94a7",
   "metadata": {},
   "outputs": [
    {
     "name": "stdout",
     "output_type": "stream",
     "text": [
      "/home/skunk/efficbench\r\n"
     ]
    }
   ],
   "source": [
    "!pwd"
   ]
  },
  {
   "cell_type": "code",
   "execution_count": 32,
   "id": "e4a6f331",
   "metadata": {},
   "outputs": [],
   "source": [
    "dates={}\n",
    "for model in models_names:\n",
    "    file_path = models_path+f'/{model}/model_outputs.json'\n",
    "    dates[model]=(datetime.strptime(get_last_commit_date(file_path, clone_path), '%a %b %d %H:%M:%S %Y %z'))"
   ]
  },
  {
   "cell_type": "code",
   "execution_count": 33,
   "id": "9c896f34",
   "metadata": {},
   "outputs": [],
   "source": [
    "with open('data/alpaca_dates.pickle', 'wb') as handle:\n",
    "    pickle.dump(dates, handle, protocol=pickle.HIGHEST_PROTOCOL)"
   ]
  },
  {
   "cell_type": "code",
   "execution_count": null,
   "id": "9fea6860",
   "metadata": {},
   "outputs": [],
   "source": []
  },
  {
   "cell_type": "code",
   "execution_count": 34,
   "id": "6f298d82",
   "metadata": {},
   "outputs": [
    {
     "data": {
      "text/plain": [
       "'gpt4_turbo'"
      ]
     },
     "execution_count": 34,
     "metadata": {},
     "output_type": "execute_result"
    }
   ],
   "source": [
    "with open('data/alpaca_v2.pickle', 'rb') as handle:\n",
    "    data = pickle.load(handle)\n",
    "    \n",
    "#post-process (might be included in the pre-process code later on)\n",
    "#ordering by including date and deleting benchmark model (gpt4 turbo, which is the best performing model)\n",
    "with open('data/alpaca_dates.pickle', 'rb') as handle:\n",
    "    alpaca_dates = pickle.load(handle)\n",
    "dates = [alpaca_dates[model] for model in data['models']]\n",
    "order = np.argsort(np.array(dates))[::-1]\n",
    "\n",
    "data['data']['alpaca_v2']['correctness'] = data['data']['alpaca_v2']['correctness'][:,order]\n",
    "benchmark_ind = np.argmax(data['data']['alpaca_v2']['correctness'].mean(axis=0))\n",
    "data['data']['alpaca_v2']['correctness'] = np.delete(data['data']['alpaca_v2']['correctness'], benchmark_ind, axis=1)\n",
    "\n",
    "data['models'] = np.array(data['models'])[order].tolist()\n",
    "data['models'].pop(benchmark_ind)"
   ]
  },
  {
   "cell_type": "code",
   "execution_count": 35,
   "id": "e2723851",
   "metadata": {},
   "outputs": [],
   "source": [
    "with open('data/alpaca_v2_processed.pickle', 'wb') as handle:\n",
    "    pickle.dump(data, handle, protocol=pickle.HIGHEST_PROTOCOL)"
   ]
  },
  {
   "cell_type": "code",
   "execution_count": 38,
   "id": "6a6180ef",
   "metadata": {},
   "outputs": [
    {
     "data": {
      "text/plain": [
       "array([datetime.datetime(2024, 1, 17, 23, 28, 33, tzinfo=datetime.timezone(datetime.timedelta(days=-1, seconds=57600))),\n",
       "       datetime.datetime(2024, 1, 16, 11, 36, 30, tzinfo=datetime.timezone(datetime.timedelta(days=-1, seconds=57600))),\n",
       "       datetime.datetime(2024, 1, 16, 1, 34, 36, tzinfo=datetime.timezone(datetime.timedelta(days=-1, seconds=57600))),\n",
       "       datetime.datetime(2024, 1, 11, 12, 1, 34, tzinfo=datetime.timezone(datetime.timedelta(days=-1, seconds=57600))),\n",
       "       datetime.datetime(2024, 1, 10, 15, 13, 3, tzinfo=datetime.timezone(datetime.timedelta(days=-1, seconds=57600))),\n",
       "       datetime.datetime(2024, 1, 10, 13, 9, 5, tzinfo=datetime.timezone(datetime.timedelta(days=-1, seconds=57600))),\n",
       "       datetime.datetime(2024, 1, 10, 13, 9, 5, tzinfo=datetime.timezone(datetime.timedelta(days=-1, seconds=57600))),\n",
       "       datetime.datetime(2024, 1, 10, 13, 9, 5, tzinfo=datetime.timezone(datetime.timedelta(days=-1, seconds=57600))),\n",
       "       datetime.datetime(2024, 1, 10, 13, 9, 5, tzinfo=datetime.timezone(datetime.timedelta(days=-1, seconds=57600))),\n",
       "       datetime.datetime(2024, 1, 10, 13, 9, 5, tzinfo=datetime.timezone(datetime.timedelta(days=-1, seconds=57600))),\n",
       "       datetime.datetime(2024, 1, 3, 16, 43, 53, tzinfo=datetime.timezone(datetime.timedelta(seconds=3600))),\n",
       "       datetime.datetime(2024, 1, 3, 16, 43, 53, tzinfo=datetime.timezone(datetime.timedelta(seconds=3600))),\n",
       "       datetime.datetime(2024, 1, 3, 16, 43, 53, tzinfo=datetime.timezone(datetime.timedelta(seconds=3600))),\n",
       "       datetime.datetime(2024, 1, 3, 16, 43, 53, tzinfo=datetime.timezone(datetime.timedelta(seconds=3600))),\n",
       "       datetime.datetime(2024, 1, 3, 1, 52, 3, tzinfo=datetime.timezone(datetime.timedelta(seconds=3600))),\n",
       "       datetime.datetime(2024, 1, 3, 1, 52, 3, tzinfo=datetime.timezone(datetime.timedelta(seconds=3600))),\n",
       "       datetime.datetime(2023, 12, 27, 16, 1, 25, tzinfo=datetime.timezone(datetime.timedelta(seconds=28800))),\n",
       "       datetime.datetime(2023, 12, 24, 8, 30, 38, tzinfo=datetime.timezone(datetime.timedelta(seconds=3600))),\n",
       "       datetime.datetime(2023, 12, 24, 8, 30, 38, tzinfo=datetime.timezone(datetime.timedelta(seconds=3600))),\n",
       "       datetime.datetime(2023, 12, 23, 10, 9, 16, tzinfo=datetime.timezone.utc),\n",
       "       datetime.datetime(2023, 12, 20, 18, 57, 58, tzinfo=datetime.timezone.utc),\n",
       "       datetime.datetime(2023, 12, 5, 13, 47, 29, tzinfo=datetime.timezone(datetime.timedelta(days=-1, seconds=57600))),\n",
       "       datetime.datetime(2023, 12, 5, 13, 47, 29, tzinfo=datetime.timezone(datetime.timedelta(days=-1, seconds=57600))),\n",
       "       datetime.datetime(2023, 12, 5, 13, 47, 29, tzinfo=datetime.timezone(datetime.timedelta(days=-1, seconds=57600)))],\n",
       "      dtype=object)"
      ]
     },
     "execution_count": 38,
     "metadata": {},
     "output_type": "execute_result"
    }
   ],
   "source": [
    "np.array(dates)[order][:int(98/4)]"
   ]
  },
  {
   "cell_type": "code",
   "execution_count": null,
   "id": "6270cf75",
   "metadata": {},
   "outputs": [],
   "source": []
  }
 ],
 "metadata": {
  "kernelspec": {
   "display_name": "Python 3 (ipykernel)",
   "language": "python",
   "name": "python3"
  },
  "language_info": {
   "codemirror_mode": {
    "name": "ipython",
    "version": 3
   },
   "file_extension": ".py",
   "mimetype": "text/x-python",
   "name": "python",
   "nbconvert_exporter": "python",
   "pygments_lexer": "ipython3",
   "version": "3.11.5"
  }
 },
 "nbformat": 4,
 "nbformat_minor": 5
}
