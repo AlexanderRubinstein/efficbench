{
 "cells": [
  {
   "cell_type": "code",
   "execution_count": 1,
   "id": "0a612e9f",
   "metadata": {},
   "outputs": [],
   "source": [
    "import os\n",
    "from tqdm import tqdm\n",
    "import pandas as pd\n",
    "import numpy as np\n",
    "import pickle\n",
    "from datetime import datetime\n",
    "import matplotlib.pyplot as plt"
   ]
  },
  {
   "cell_type": "code",
   "execution_count": 2,
   "id": "8b90609a",
   "metadata": {},
   "outputs": [],
   "source": [
    "with open('data/leaderboard_raw_20240108.pickle', 'rb') as handle:\n",
    "    df = pickle.load(handle)"
   ]
  },
  {
   "cell_type": "code",
   "execution_count": 3,
   "id": "b9f93b17",
   "metadata": {},
   "outputs": [
    {
     "name": "stdout",
     "output_type": "stream",
     "text": [
      "47\n"
     ]
    }
   ],
   "source": [
    "models = list(df.keys())\n",
    "print(len(models))"
   ]
  },
  {
   "cell_type": "code",
   "execution_count": 4,
   "id": "4fdb6a2e",
   "metadata": {},
   "outputs": [
    {
     "name": "stdout",
     "output_type": "stream",
     "text": [
      "42\n"
     ]
    }
   ],
   "source": [
    "for key1 in df.keys():\n",
    "    for key2 in df[key1].keys():\n",
    "        if df[key1][key2]==None: \n",
    "            try: models.remove(key1)\n",
    "            except: pass\n",
    "#models.remove('open-llm-leaderboard/details_tiiuae__falcon-180B') #for some scenarios, this model has a limited number of responses\n",
    "print(len(models))"
   ]
  },
  {
   "cell_type": "markdown",
   "id": "6b684ffb",
   "metadata": {},
   "source": [
    "[len(np.unique([\"_\".join(df[model][sub]['dates']) for sub in df[list(df.keys())[0]].keys()]).tolist()) for model in models]"
   ]
  },
  {
   "cell_type": "code",
   "execution_count": 5,
   "id": "5cea1bba",
   "metadata": {},
   "outputs": [
    {
     "data": {
      "text/plain": [
       "array([datetime.datetime(2024, 1, 7, 0, 0),\n",
       "       datetime.datetime(2024, 1, 6, 0, 0),\n",
       "       datetime.datetime(2024, 1, 6, 0, 0),\n",
       "       datetime.datetime(2024, 1, 5, 0, 0),\n",
       "       datetime.datetime(2024, 1, 5, 0, 0),\n",
       "       datetime.datetime(2024, 1, 5, 0, 0),\n",
       "       datetime.datetime(2024, 1, 4, 0, 0),\n",
       "       datetime.datetime(2024, 1, 4, 0, 0),\n",
       "       datetime.datetime(2024, 1, 4, 0, 0),\n",
       "       datetime.datetime(2024, 1, 4, 0, 0),\n",
       "       datetime.datetime(2023, 12, 31, 0, 0),\n",
       "       datetime.datetime(2023, 12, 30, 0, 0),\n",
       "       datetime.datetime(2023, 12, 30, 0, 0),\n",
       "       datetime.datetime(2023, 12, 30, 0, 0),\n",
       "       datetime.datetime(2023, 12, 30, 0, 0)], dtype=object)"
      ]
     },
     "execution_count": 5,
     "metadata": {},
     "output_type": "execute_result"
    }
   ],
   "source": [
    "dates = np.array([datetime.strptime(df[model]['harness_gsm8k_5']['dates'][0][:10], '%Y_%m_%d') for model in models])\n",
    "order = np.argsort(dates)[::-1]\n",
    "dates[order][:15]"
   ]
  },
  {
   "cell_type": "code",
   "execution_count": 6,
   "id": "7a073b34",
   "metadata": {},
   "outputs": [
    {
     "data": {
      "text/plain": [
       "array([33,  0,  4, 32, 19, 38,  1, 30,  9, 31, 17, 40,  5, 27,  8, 36, 37,\n",
       "       29, 12,  3, 41, 11,  2, 21, 26, 23,  6, 39, 15, 35, 16, 10,  7, 22,\n",
       "       13, 14, 18, 20, 34, 28, 25, 24])"
      ]
     },
     "execution_count": 6,
     "metadata": {},
     "output_type": "execute_result"
    }
   ],
   "source": [
    "order"
   ]
  },
  {
   "cell_type": "code",
   "execution_count": 7,
   "id": "339986bc",
   "metadata": {},
   "outputs": [
    {
     "data": {
      "image/png": "[encoded data removed]",
      "text/plain": [
       "<Figure size 640x480 with 1 Axes>"
      ]
     },
     "metadata": {},
     "output_type": "display_data"
    }
   ],
   "source": [
    "plt.plot(order,'bo')\n",
    "plt.show()"
   ]
  },
  {
   "cell_type": "code",
   "execution_count": 8,
   "id": "e073ee7d",
   "metadata": {},
   "outputs": [],
   "source": [
    "data = {}\n",
    "data['data'] = {}\n",
    "data['models'] = [models[o] for o in order]\n",
    "\n",
    "for sub in df[list(df.keys())[0]].keys():\n",
    "    data['data'][sub] = {}\n",
    "    data['data'][sub]['correctness'] = []\n",
    "    \n",
    "    for model in models:\n",
    "        data['data'][sub]['correctness'].append(df[model][sub]['correctness'])\n",
    "            \n",
    "    data['data'][sub]['correctness'] = np.array(data['data'][sub]['correctness']).T.astype(float)"
   ]
  },
  {
   "cell_type": "code",
   "execution_count": 9,
   "id": "7365070c",
   "metadata": {},
   "outputs": [],
   "source": [
    "for sub in df[list(df.keys())[0]].keys():\n",
    "    data['data'][sub]['correctness'] = data['data'][sub]['correctness'][:,order]"
   ]
  },
  {
   "cell_type": "code",
   "execution_count": 10,
   "id": "7c034f69",
   "metadata": {},
   "outputs": [],
   "source": [
    "with open('data/lb.pickle', 'wb') as handle:\n",
    "    pickle.dump(data, handle, protocol=pickle.HIGHEST_PROTOCOL)"
   ]
  },
  {
   "cell_type": "code",
   "execution_count": null,
   "id": "7c7d6b54",
   "metadata": {},
   "outputs": [],
   "source": []
  }
 ],
 "metadata": {
  "kernelspec": {
   "display_name": "Python 3 (ipykernel)",
   "language": "python",
   "name": "python3"
  },
  "language_info": {
   "codemirror_mode": {
    "name": "ipython",
    "version": 3
   },
   "file_extension": ".py",
   "mimetype": "text/x-python",
   "name": "python",
   "nbconvert_exporter": "python",
   "pygments_lexer": "ipython3",
   "version": "3.11.5"
  }
 },
 "nbformat": 4,
 "nbformat_minor": 5
}
