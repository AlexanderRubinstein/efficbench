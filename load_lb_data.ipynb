{
 "cells": [
  {
   "cell_type": "code",
   "execution_count": 1,
   "id": "0a612e9f",
   "metadata": {},
   "outputs": [],
   "source": [
    "import os\n",
    "from tqdm import tqdm\n",
    "import pandas as pd\n",
    "import numpy as np\n",
    "import pickle\n",
    "from datetime import datetime\n",
    "import matplotlib.pyplot as plt"
   ]
  },
  {
   "cell_type": "code",
   "execution_count": 2,
   "id": "8b90609a",
   "metadata": {},
   "outputs": [],
   "source": [
    "with open('data/leaderboard_raw_20240118.pickle', 'rb') as handle:\n",
    "    df = pickle.load(handle)"
   ]
  },
  {
   "cell_type": "code",
   "execution_count": 3,
   "id": "b9f93b17",
   "metadata": {},
   "outputs": [
    {
     "name": "stdout",
     "output_type": "stream",
     "text": [
      "452\n"
     ]
    }
   ],
   "source": [
    "models = list(df.keys())\n",
    "print(len(models))"
   ]
  },
  {
   "cell_type": "code",
   "execution_count": 4,
   "id": "4fdb6a2e",
   "metadata": {},
   "outputs": [
    {
     "name": "stdout",
     "output_type": "stream",
     "text": [
      "395\n"
     ]
    }
   ],
   "source": [
    "for key1 in df.keys():\n",
    "    for key2 in df[key1].keys():\n",
    "        if df[key1][key2]==None: \n",
    "            try: models.remove(key1)\n",
    "            except: pass\n",
    "models.remove('open-llm-leaderboard/details_mindy-labs__mindy-7b') #for some scenarios, this model has a limited number of responses\n",
    "print(len(models))"
   ]
  },
  {
   "cell_type": "code",
   "execution_count": 5,
   "id": "5cea1bba",
   "metadata": {},
   "outputs": [
    {
     "data": {
      "text/plain": [
       "array([datetime.datetime(2024, 1, 17, 0, 0),\n",
       "       datetime.datetime(2024, 1, 16, 0, 0),\n",
       "       datetime.datetime(2024, 1, 16, 0, 0),\n",
       "       datetime.datetime(2024, 1, 16, 0, 0),\n",
       "       datetime.datetime(2024, 1, 16, 0, 0),\n",
       "       datetime.datetime(2024, 1, 16, 0, 0),\n",
       "       datetime.datetime(2024, 1, 15, 0, 0),\n",
       "       datetime.datetime(2024, 1, 15, 0, 0),\n",
       "       datetime.datetime(2024, 1, 15, 0, 0),\n",
       "       datetime.datetime(2024, 1, 15, 0, 0),\n",
       "       datetime.datetime(2024, 1, 15, 0, 0),\n",
       "       datetime.datetime(2024, 1, 15, 0, 0),\n",
       "       datetime.datetime(2024, 1, 14, 0, 0),\n",
       "       datetime.datetime(2024, 1, 14, 0, 0),\n",
       "       datetime.datetime(2024, 1, 14, 0, 0),\n",
       "       datetime.datetime(2024, 1, 14, 0, 0),\n",
       "       datetime.datetime(2024, 1, 14, 0, 0),\n",
       "       datetime.datetime(2024, 1, 14, 0, 0),\n",
       "       datetime.datetime(2024, 1, 14, 0, 0),\n",
       "       datetime.datetime(2024, 1, 14, 0, 0),\n",
       "       datetime.datetime(2024, 1, 14, 0, 0),\n",
       "       datetime.datetime(2024, 1, 14, 0, 0),\n",
       "       datetime.datetime(2024, 1, 14, 0, 0),\n",
       "       datetime.datetime(2024, 1, 14, 0, 0),\n",
       "       datetime.datetime(2024, 1, 14, 0, 0),\n",
       "       datetime.datetime(2024, 1, 14, 0, 0),\n",
       "       datetime.datetime(2024, 1, 14, 0, 0),\n",
       "       datetime.datetime(2024, 1, 14, 0, 0),\n",
       "       datetime.datetime(2024, 1, 13, 0, 0),\n",
       "       datetime.datetime(2024, 1, 13, 0, 0),\n",
       "       datetime.datetime(2024, 1, 13, 0, 0),\n",
       "       datetime.datetime(2024, 1, 13, 0, 0),\n",
       "       datetime.datetime(2024, 1, 13, 0, 0),\n",
       "       datetime.datetime(2024, 1, 13, 0, 0),\n",
       "       datetime.datetime(2024, 1, 13, 0, 0),\n",
       "       datetime.datetime(2024, 1, 13, 0, 0),\n",
       "       datetime.datetime(2024, 1, 13, 0, 0),\n",
       "       datetime.datetime(2024, 1, 13, 0, 0),\n",
       "       datetime.datetime(2024, 1, 13, 0, 0),\n",
       "       datetime.datetime(2024, 1, 11, 0, 0),\n",
       "       datetime.datetime(2024, 1, 11, 0, 0),\n",
       "       datetime.datetime(2024, 1, 11, 0, 0),\n",
       "       datetime.datetime(2024, 1, 11, 0, 0),\n",
       "       datetime.datetime(2024, 1, 10, 0, 0),\n",
       "       datetime.datetime(2024, 1, 10, 0, 0),\n",
       "       datetime.datetime(2024, 1, 10, 0, 0),\n",
       "       datetime.datetime(2024, 1, 10, 0, 0),\n",
       "       datetime.datetime(2024, 1, 10, 0, 0),\n",
       "       datetime.datetime(2024, 1, 10, 0, 0),\n",
       "       datetime.datetime(2024, 1, 10, 0, 0),\n",
       "       datetime.datetime(2024, 1, 10, 0, 0),\n",
       "       datetime.datetime(2024, 1, 10, 0, 0),\n",
       "       datetime.datetime(2024, 1, 8, 0, 0),\n",
       "       datetime.datetime(2024, 1, 8, 0, 0),\n",
       "       datetime.datetime(2024, 1, 7, 0, 0),\n",
       "       datetime.datetime(2024, 1, 7, 0, 0),\n",
       "       datetime.datetime(2024, 1, 7, 0, 0),\n",
       "       datetime.datetime(2024, 1, 6, 0, 0),\n",
       "       datetime.datetime(2024, 1, 6, 0, 0),\n",
       "       datetime.datetime(2024, 1, 6, 0, 0),\n",
       "       datetime.datetime(2024, 1, 6, 0, 0),\n",
       "       datetime.datetime(2024, 1, 6, 0, 0),\n",
       "       datetime.datetime(2024, 1, 6, 0, 0),\n",
       "       datetime.datetime(2024, 1, 6, 0, 0),\n",
       "       datetime.datetime(2024, 1, 5, 0, 0),\n",
       "       datetime.datetime(2024, 1, 5, 0, 0),\n",
       "       datetime.datetime(2024, 1, 5, 0, 0),\n",
       "       datetime.datetime(2024, 1, 5, 0, 0),\n",
       "       datetime.datetime(2024, 1, 5, 0, 0),\n",
       "       datetime.datetime(2024, 1, 5, 0, 0),\n",
       "       datetime.datetime(2024, 1, 5, 0, 0),\n",
       "       datetime.datetime(2024, 1, 5, 0, 0),\n",
       "       datetime.datetime(2024, 1, 5, 0, 0),\n",
       "       datetime.datetime(2024, 1, 5, 0, 0),\n",
       "       datetime.datetime(2024, 1, 5, 0, 0),\n",
       "       datetime.datetime(2024, 1, 5, 0, 0),\n",
       "       datetime.datetime(2024, 1, 5, 0, 0),\n",
       "       datetime.datetime(2024, 1, 5, 0, 0),\n",
       "       datetime.datetime(2024, 1, 5, 0, 0),\n",
       "       datetime.datetime(2024, 1, 5, 0, 0),\n",
       "       datetime.datetime(2024, 1, 5, 0, 0),\n",
       "       datetime.datetime(2024, 1, 5, 0, 0),\n",
       "       datetime.datetime(2024, 1, 4, 0, 0),\n",
       "       datetime.datetime(2024, 1, 4, 0, 0),\n",
       "       datetime.datetime(2024, 1, 4, 0, 0),\n",
       "       datetime.datetime(2024, 1, 4, 0, 0),\n",
       "       datetime.datetime(2024, 1, 4, 0, 0),\n",
       "       datetime.datetime(2024, 1, 4, 0, 0),\n",
       "       datetime.datetime(2024, 1, 4, 0, 0),\n",
       "       datetime.datetime(2024, 1, 4, 0, 0),\n",
       "       datetime.datetime(2024, 1, 4, 0, 0),\n",
       "       datetime.datetime(2024, 1, 4, 0, 0),\n",
       "       datetime.datetime(2024, 1, 4, 0, 0),\n",
       "       datetime.datetime(2024, 1, 4, 0, 0),\n",
       "       datetime.datetime(2023, 12, 30, 0, 0),\n",
       "       datetime.datetime(2023, 12, 30, 0, 0),\n",
       "       datetime.datetime(2023, 12, 30, 0, 0),\n",
       "       datetime.datetime(2023, 12, 30, 0, 0)], dtype=object)"
      ]
     },
     "execution_count": 5,
     "metadata": {},
     "output_type": "execute_result"
    }
   ],
   "source": [
    "dates = np.array([datetime.strptime(df[model]['harness_gsm8k_5']['dates'][0][:10], '%Y_%m_%d') for model in models])\n",
    "order = np.argsort(dates)[::-1]\n",
    "dates[order][:int(order.shape[0]/4)]"
   ]
  },
  {
   "cell_type": "code",
   "execution_count": 6,
   "id": "7a073b34",
   "metadata": {},
   "outputs": [
    {
     "data": {
      "text/plain": [
       "(395,)"
      ]
     },
     "execution_count": 6,
     "metadata": {},
     "output_type": "execute_result"
    }
   ],
   "source": [
    "dates[order][:].shape"
   ]
  },
  {
   "cell_type": "code",
   "execution_count": 7,
   "id": "339986bc",
   "metadata": {},
   "outputs": [
    {
     "data": {
      "image/png": "[encoded data removed]",
      "text/plain": [
       "<Figure size 640x480 with 1 Axes>"
      ]
     },
     "metadata": {},
     "output_type": "display_data"
    }
   ],
   "source": [
    "plt.plot(order,'bo')\n",
    "plt.show()"
   ]
  },
  {
   "cell_type": "code",
   "execution_count": 8,
   "id": "e073ee7d",
   "metadata": {},
   "outputs": [],
   "source": [
    "#model 36 in 'harness_truthfulqa_mc_0' has 104 nans (we will delete that item)\n",
    "data = {}\n",
    "data['data'] = {}\n",
    "data['models'] = [models[o] for o in order]\n",
    "\n",
    "for sub in df[list(df.keys())[0]].keys():\n",
    "    data['data'][sub] = {}\n",
    "    data['data'][sub]['correctness'] = []\n",
    "    \n",
    "    for model in models:\n",
    "        data['data'][sub]['correctness'].append(df[model][sub]['correctness'])\n",
    "            \n",
    "    data['data'][sub]['correctness'] = np.array(data['data'][sub]['correctness']).T.astype(float)"
   ]
  },
  {
   "cell_type": "code",
   "execution_count": 12,
   "id": "19c25d19",
   "metadata": {},
   "outputs": [],
   "source": [
    "for sub in df[list(df.keys())[0]].keys():\n",
    "    data['data'][sub]['correctness'] = data['data'][sub]['correctness'][:,order]"
   ]
  },
  {
   "cell_type": "code",
   "execution_count": 13,
   "id": "7c034f69",
   "metadata": {},
   "outputs": [],
   "source": [
    "with open('data/lb.pickle', 'wb') as handle:\n",
    "    pickle.dump(data, handle, protocol=pickle.HIGHEST_PROTOCOL)"
   ]
  }
 ],
 "metadata": {
  "kernelspec": {
   "display_name": "Python 3 (ipykernel)",
   "language": "python",
   "name": "python3"
  },
  "language_info": {
   "codemirror_mode": {
    "name": "ipython",
    "version": 3
   },
   "file_extension": ".py",
   "mimetype": "text/x-python",
   "name": "python",
   "nbconvert_exporter": "python",
   "pygments_lexer": "ipython3",
   "version": "3.11.5"
  }
 },
 "nbformat": 4,
 "nbformat_minor": 5
}
