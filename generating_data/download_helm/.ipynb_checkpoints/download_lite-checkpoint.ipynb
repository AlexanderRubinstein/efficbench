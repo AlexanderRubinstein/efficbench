{
 "cells": [
  {
   "cell_type": "code",
   "execution_count": 15,
   "id": "c68dc58c",
   "metadata": {},
   "outputs": [],
   "source": [
    "from tqdm import tqdm\n",
    "import os\n",
    "import requests\n",
    "import json\n",
    "import pandas as pd\n",
    "\n",
    "version_to_run = \"v1.0.0\"\n",
    "    \n",
    "###################################################################################################################\n",
    "tasks_path = \"data/filtered_run_path\"\n",
    "#tasks_list = os.listdir(os.path.join(tasks_path, version_to_run))\n",
    "\n",
    "def get_json_from_url(url):\n",
    "    try:\n",
    "        response = requests.get(url)\n",
    "        response.raise_for_status()  # Raise an exception for 4xx or 5xx status codes\n",
    "        json_data = response.json()\n",
    "        return json_data\n",
    "    except requests.exceptions.RequestException as e:\n",
    "        print(f\"An error occurred: {e}\")\n",
    "        return None\n",
    "        \n",
    "overwrite = False"
   ]
  },
  {
   "cell_type": "code",
   "execution_count": 17,
   "id": "95a527bf",
   "metadata": {},
   "outputs": [],
   "source": [
    "df = pd.read_csv('helm_lite.csv')\n",
    "tasks_list = list(df.Run)"
   ]
  },
  {
   "cell_type": "code",
   "execution_count": null,
   "id": "49941c03",
   "metadata": {},
   "outputs": [
    {
     "name": "stderr",
     "output_type": "stream",
     "text": [
      " 24%|█████████▊                               | 201/840 [11:05<24:16,  2.28s/it]"
     ]
    }
   ],
   "source": [
    "for tasks in [tasks_list]:\n",
    "        \n",
    "    template_url = f\"https://storage.googleapis.com/crfm-helm-public/lite/benchmark_output/runs/{version_to_run}\"\n",
    "    save_dir = f\"/llmthonskdir/felipe/helm/lite/{version_to_run}\"\n",
    "\n",
    "    for task in tqdm(tasks):\n",
    "        cur_save_dir = f\"{save_dir}/{task}\"\n",
    "        os.makedirs(cur_save_dir, exist_ok=True)\n",
    "\n",
    "        for file_type in [\n",
    "                \"run_spec\",\n",
    "                \"stats\",\n",
    "                \"per_instance_stats\",\n",
    "                \"instances\",\n",
    "                \"scenario_state\",\n",
    "                \"display_predictions\",\n",
    "                \"display_requests\",\n",
    "                \"scenario\",\n",
    "        ]:\n",
    "            save_path = f\"{cur_save_dir}/{file_type}.json\"\n",
    "            if os.path.exists(save_path) and not overwrite:\n",
    "                continue\n",
    "                    \n",
    "            #https://storage.googleapis.com/crfm-helm-public/benchmark_output/runs/v0.2.2/babi_qa:task=15,model=AlephAlpha_luminous-base/scenario_state.json\n",
    "\n",
    "            cur_url = f\"{template_url}/{task}/{file_type}.json\"\n",
    "            json.dump(get_json_from_url(cur_url), open(save_path, \"w\"), indent=2)\n"
   ]
  },
  {
   "cell_type": "code",
   "execution_count": null,
   "id": "10ce3665",
   "metadata": {},
   "outputs": [],
   "source": []
  }
 ],
 "metadata": {
  "kernelspec": {
   "display_name": "Python 3 (ipykernel)",
   "language": "python",
   "name": "python3"
  },
  "language_info": {
   "codemirror_mode": {
    "name": "ipython",
    "version": 3
   },
   "file_extension": ".py",
   "mimetype": "text/x-python",
   "name": "python",
   "nbconvert_exporter": "python",
   "pygments_lexer": "ipython3",
   "version": "3.11.5"
  }
 },
 "nbformat": 4,
 "nbformat_minor": 5
}
