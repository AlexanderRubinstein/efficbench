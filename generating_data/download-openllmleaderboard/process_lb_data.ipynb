{
 "cells": [
  {
   "cell_type": "code",
   "execution_count": 1,
   "id": "0a612e9f",
   "metadata": {},
   "outputs": [
    {
     "name": "stdout",
     "output_type": "stream",
     "text": [
      "['stnd.egg-info', 'requirements.txt', '.pre-commit-config.yaml', 'tests', '.gitignore', '.github', 'README.md', 'pyproject.toml', 'requirements-test.txt', 'build', 'setup.cfg', 'LICENSE.txt', '.cursor', 'prepare_repo.sh', '.vscode', '.git', 'stnd']\n"
     ]
    },
    {
     "data": {
      "text/plain": [
       "'/home/oh/arubinstein17/github/efficbench/envs/tb_env/lib/python311.zip'"
      ]
     },
     "execution_count": 1,
     "metadata": {},
     "output_type": "execute_result"
    }
   ],
   "source": [
    "import os\n",
    "from tqdm import tqdm\n",
    "import pandas as pd\n",
    "import numpy as np\n",
    "import pickle\n",
    "from datetime import datetime\n",
    "import matplotlib.pyplot as plt\n",
    "import sys\n",
    "\n",
    "KEYS_TO_ADD = [\"correctness\", \"predictions\"]\n",
    "\n",
    "# from stnd.utility.utils import parse_list_from_string\n",
    "STND_PATH = '../../tmp/stnd'\n",
    "sys.path.append(STND_PATH)\n",
    "print(os.listdir(STND_PATH))\n",
    "from stnd.utility.utils import parse_list_from_string\n",
    "sys.path.pop(0)"
   ]
  },
  {
   "cell_type": "code",
   "execution_count": 2,
   "id": "8b90609a",
   "metadata": {},
   "outputs": [],
   "source": [
    "# with open('data/leaderboard_raw_20240118.pickle', 'rb') as handle:\n",
    "with open('../../data/leaderboard_raw_25042025.pickle', 'rb') as handle:\n",
    "    df = pickle.load(handle)"
   ]
  },
  {
   "cell_type": "code",
   "execution_count": 3,
   "id": "b9f93b17",
   "metadata": {},
   "outputs": [
    {
     "name": "stdout",
     "output_type": "stream",
     "text": [
      "452\n"
     ]
    }
   ],
   "source": [
    "models = list(df.keys())\n",
    "print(len(models))\n",
    "# 452"
   ]
  },
  {
   "cell_type": "code",
   "execution_count": 4,
   "id": "4fdb6a2e",
   "metadata": {},
   "outputs": [
    {
     "name": "stdout",
     "output_type": "stream",
     "text": [
      "398\n"
     ]
    }
   ],
   "source": [
    "for key1 in df.keys():\n",
    "    for key2 in df[key1].keys():\n",
    "        if df[key1][key2]==None:\n",
    "            try: models.remove(key1)\n",
    "            except: pass\n",
    "models.remove('open-llm-leaderboard/details_mindy-labs__mindy-7b') #for some scenarios, this model has a limited number of responses\n",
    "print(len(models))\n",
    "# 395"
   ]
  },
  {
   "cell_type": "code",
   "execution_count": 5,
   "id": "48920733",
   "metadata": {},
   "outputs": [],
   "source": [
    "# pruned_models = []\n",
    "# for model in models[0:10]:\n",
    "#     if \"harness_gsm8k_5\" in df[model].keys():\n",
    "#         pruned_models.append(model)\n",
    "#     print(df[model].keys())\n",
    "\n",
    "# print(len(pruned_models))"
   ]
  },
  {
   "cell_type": "code",
   "execution_count": 6,
   "id": "5cea1bba",
   "metadata": {},
   "outputs": [
    {
     "data": {
      "text/plain": [
       "array([datetime.datetime(2024, 1, 17, 0, 0),\n",
       "       datetime.datetime(2024, 1, 16, 0, 0),\n",
       "       datetime.datetime(2024, 1, 16, 0, 0),\n",
       "       datetime.datetime(2024, 1, 16, 0, 0),\n",
       "       datetime.datetime(2024, 1, 16, 0, 0),\n",
       "       datetime.datetime(2024, 1, 16, 0, 0),\n",
       "       datetime.datetime(2024, 1, 15, 0, 0),\n",
       "       datetime.datetime(2024, 1, 15, 0, 0),\n",
       "       datetime.datetime(2024, 1, 15, 0, 0),\n",
       "       datetime.datetime(2024, 1, 15, 0, 0),\n",
       "       datetime.datetime(2024, 1, 15, 0, 0),\n",
       "       datetime.datetime(2024, 1, 15, 0, 0),\n",
       "       datetime.datetime(2024, 1, 14, 0, 0),\n",
       "       datetime.datetime(2024, 1, 14, 0, 0),\n",
       "       datetime.datetime(2024, 1, 14, 0, 0),\n",
       "       datetime.datetime(2024, 1, 14, 0, 0),\n",
       "       datetime.datetime(2024, 1, 14, 0, 0),\n",
       "       datetime.datetime(2024, 1, 14, 0, 0),\n",
       "       datetime.datetime(2024, 1, 14, 0, 0),\n",
       "       datetime.datetime(2024, 1, 14, 0, 0),\n",
       "       datetime.datetime(2024, 1, 14, 0, 0),\n",
       "       datetime.datetime(2024, 1, 14, 0, 0),\n",
       "       datetime.datetime(2024, 1, 14, 0, 0),\n",
       "       datetime.datetime(2024, 1, 14, 0, 0),\n",
       "       datetime.datetime(2024, 1, 14, 0, 0),\n",
       "       datetime.datetime(2024, 1, 14, 0, 0),\n",
       "       datetime.datetime(2024, 1, 14, 0, 0),\n",
       "       datetime.datetime(2024, 1, 14, 0, 0),\n",
       "       datetime.datetime(2024, 1, 13, 0, 0),\n",
       "       datetime.datetime(2024, 1, 13, 0, 0),\n",
       "       datetime.datetime(2024, 1, 13, 0, 0),\n",
       "       datetime.datetime(2024, 1, 13, 0, 0),\n",
       "       datetime.datetime(2024, 1, 13, 0, 0),\n",
       "       datetime.datetime(2024, 1, 13, 0, 0),\n",
       "       datetime.datetime(2024, 1, 13, 0, 0),\n",
       "       datetime.datetime(2024, 1, 13, 0, 0),\n",
       "       datetime.datetime(2024, 1, 13, 0, 0),\n",
       "       datetime.datetime(2024, 1, 13, 0, 0),\n",
       "       datetime.datetime(2024, 1, 13, 0, 0),\n",
       "       datetime.datetime(2024, 1, 13, 0, 0),\n",
       "       datetime.datetime(2024, 1, 11, 0, 0),\n",
       "       datetime.datetime(2024, 1, 11, 0, 0),\n",
       "       datetime.datetime(2024, 1, 11, 0, 0),\n",
       "       datetime.datetime(2024, 1, 11, 0, 0),\n",
       "       datetime.datetime(2024, 1, 10, 0, 0),\n",
       "       datetime.datetime(2024, 1, 10, 0, 0),\n",
       "       datetime.datetime(2024, 1, 10, 0, 0),\n",
       "       datetime.datetime(2024, 1, 10, 0, 0),\n",
       "       datetime.datetime(2024, 1, 10, 0, 0),\n",
       "       datetime.datetime(2024, 1, 10, 0, 0),\n",
       "       datetime.datetime(2024, 1, 10, 0, 0),\n",
       "       datetime.datetime(2024, 1, 10, 0, 0),\n",
       "       datetime.datetime(2024, 1, 10, 0, 0),\n",
       "       datetime.datetime(2024, 1, 8, 0, 0),\n",
       "       datetime.datetime(2024, 1, 8, 0, 0),\n",
       "       datetime.datetime(2024, 1, 7, 0, 0),\n",
       "       datetime.datetime(2024, 1, 7, 0, 0),\n",
       "       datetime.datetime(2024, 1, 7, 0, 0),\n",
       "       datetime.datetime(2024, 1, 7, 0, 0),\n",
       "       datetime.datetime(2024, 1, 6, 0, 0),\n",
       "       datetime.datetime(2024, 1, 6, 0, 0),\n",
       "       datetime.datetime(2024, 1, 6, 0, 0),\n",
       "       datetime.datetime(2024, 1, 6, 0, 0),\n",
       "       datetime.datetime(2024, 1, 6, 0, 0),\n",
       "       datetime.datetime(2024, 1, 6, 0, 0),\n",
       "       datetime.datetime(2024, 1, 6, 0, 0),\n",
       "       datetime.datetime(2024, 1, 5, 0, 0),\n",
       "       datetime.datetime(2024, 1, 5, 0, 0),\n",
       "       datetime.datetime(2024, 1, 5, 0, 0),\n",
       "       datetime.datetime(2024, 1, 5, 0, 0),\n",
       "       datetime.datetime(2024, 1, 5, 0, 0),\n",
       "       datetime.datetime(2024, 1, 5, 0, 0),\n",
       "       datetime.datetime(2024, 1, 5, 0, 0),\n",
       "       datetime.datetime(2024, 1, 5, 0, 0),\n",
       "       datetime.datetime(2024, 1, 5, 0, 0),\n",
       "       datetime.datetime(2024, 1, 5, 0, 0),\n",
       "       datetime.datetime(2024, 1, 5, 0, 0),\n",
       "       datetime.datetime(2024, 1, 5, 0, 0),\n",
       "       datetime.datetime(2024, 1, 5, 0, 0),\n",
       "       datetime.datetime(2024, 1, 5, 0, 0),\n",
       "       datetime.datetime(2024, 1, 5, 0, 0),\n",
       "       datetime.datetime(2024, 1, 5, 0, 0),\n",
       "       datetime.datetime(2024, 1, 5, 0, 0),\n",
       "       datetime.datetime(2024, 1, 5, 0, 0),\n",
       "       datetime.datetime(2024, 1, 4, 0, 0),\n",
       "       datetime.datetime(2024, 1, 4, 0, 0),\n",
       "       datetime.datetime(2024, 1, 4, 0, 0),\n",
       "       datetime.datetime(2024, 1, 4, 0, 0),\n",
       "       datetime.datetime(2024, 1, 4, 0, 0),\n",
       "       datetime.datetime(2024, 1, 4, 0, 0),\n",
       "       datetime.datetime(2024, 1, 4, 0, 0),\n",
       "       datetime.datetime(2024, 1, 4, 0, 0),\n",
       "       datetime.datetime(2024, 1, 4, 0, 0),\n",
       "       datetime.datetime(2024, 1, 4, 0, 0),\n",
       "       datetime.datetime(2024, 1, 4, 0, 0),\n",
       "       datetime.datetime(2024, 1, 4, 0, 0),\n",
       "       datetime.datetime(2023, 12, 30, 0, 0),\n",
       "       datetime.datetime(2023, 12, 30, 0, 0),\n",
       "       datetime.datetime(2023, 12, 30, 0, 0)], dtype=object)"
      ]
     },
     "execution_count": 6,
     "metadata": {},
     "output_type": "execute_result"
    }
   ],
   "source": [
    "# dates = np.array([datetime.strptime(df[model]['harness_gsm8k_5']['dates'][0][:10], '%Y_%m_%d') for model in models])\n",
    "dates = np.array([datetime.strptime(df[model]['harness_hendrycksTest_abstract_algebra_5']['dates'][0][:10], '%Y_%m_%d') for model in models])\n",
    "order = np.argsort(dates)[::-1]\n",
    "dates[order][:int(order.shape[0]/4)]"
   ]
  },
  {
   "cell_type": "code",
   "execution_count": 7,
   "id": "7a073b34",
   "metadata": {},
   "outputs": [
    {
     "data": {
      "text/plain": [
       "(398,)"
      ]
     },
     "execution_count": 7,
     "metadata": {},
     "output_type": "execute_result"
    }
   ],
   "source": [
    "dates[order][:].shape"
   ]
  },
  {
   "cell_type": "code",
   "execution_count": 8,
   "id": "339986bc",
   "metadata": {},
   "outputs": [
    {
     "data": {
      "image/png": "[encoded data removed]",
      "text/plain": [
       "<Figure size 640x480 with 1 Axes>"
      ]
     },
     "metadata": {},
     "output_type": "display_data"
    }
   ],
   "source": [
    "plt.plot(order,'bo')\n",
    "plt.show()"
   ]
  },
  {
   "cell_type": "code",
   "execution_count": 26,
   "id": "63b6a950",
   "metadata": {},
   "outputs": [
    {
     "name": "stdout",
     "output_type": "stream",
     "text": [
      "harness_hendrycksTest_abstract_algebra_5 correctness\n",
      "100\n",
      "float64\n",
      "harness_hendrycksTest_abstract_algebra_5 predictions\n",
      "398\n"
     ]
    },
    {
     "ename": "AssertionError",
     "evalue": "sub_sub_val: [-1.983853816986084, -0.48385387659072876, -1.968228816986084, -2.374478816986084] (len: 82) and sub_val[0]: [-1.2554941177368164, -1.4742441177368164, -1.2398691177368164, -1.6929941177368164] (len: 84) have different lengths",
     "output_type": "error",
     "traceback": [
      "\u001b[31m---------------------------------------------------------------------------\u001b[39m",
      "\u001b[31mAssertionError\u001b[39m                            Traceback (most recent call last)",
      "\u001b[36mCell\u001b[39m\u001b[36m \u001b[39m\u001b[32mIn[26]\u001b[39m\u001b[32m, line 10\u001b[39m\n\u001b[32m      8\u001b[39m     \u001b[38;5;28;01mif\u001b[39;00m key == \u001b[33m'\u001b[39m\u001b[33mpredictions\u001b[39m\u001b[33m'\u001b[39m:\n\u001b[32m      9\u001b[39m         \u001b[38;5;28;01mfor\u001b[39;00m sub_sub_val \u001b[38;5;129;01min\u001b[39;00m sub_val:\n\u001b[32m---> \u001b[39m\u001b[32m10\u001b[39m             \u001b[38;5;28;01massert\u001b[39;00m \u001b[38;5;28mlen\u001b[39m(sub_sub_val) == \u001b[38;5;28mlen\u001b[39m(sub_val[\u001b[32m0\u001b[39m]), \u001b[33mf\u001b[39m\u001b[33m\"\u001b[39m\u001b[33msub_sub_val: \u001b[39m\u001b[38;5;132;01m{\u001b[39;00msub_sub_val\u001b[38;5;132;01m}\u001b[39;00m\u001b[33m (len: \u001b[39m\u001b[38;5;132;01m{\u001b[39;00m\u001b[38;5;28mlen\u001b[39m(sub_sub_val)\u001b[38;5;132;01m}\u001b[39;00m\u001b[33m) and sub_val[0]: \u001b[39m\u001b[38;5;132;01m{\u001b[39;00msub_val[\u001b[32m0\u001b[39m]\u001b[38;5;132;01m}\u001b[39;00m\u001b[33m (len: \u001b[39m\u001b[38;5;132;01m{\u001b[39;00m\u001b[38;5;28mlen\u001b[39m(sub_val[\u001b[32m0\u001b[39m])\u001b[38;5;132;01m}\u001b[39;00m\u001b[33m) have different lengths\u001b[39m\u001b[33m\"\u001b[39m\n\u001b[32m     12\u001b[39m \u001b[38;5;28mprint\u001b[39m(np.array(data[\u001b[33m'\u001b[39m\u001b[33mdata\u001b[39m\u001b[33m'\u001b[39m][sub][key]).dtype)\n",
      "\u001b[31mAssertionError\u001b[39m: sub_sub_val: [-1.983853816986084, -0.48385387659072876, -1.968228816986084, -2.374478816986084] (len: 82) and sub_val[0]: [-1.2554941177368164, -1.4742441177368164, -1.2398691177368164, -1.6929941177368164] (len: 84) have different lengths"
     ]
    }
   ],
   "source": [
    "for sub in df[list(df.keys())[0]].keys():\n",
    "    for key in KEYS_TO_ADD:\n",
    "        value = data['data'][sub][key]\n",
    "        print(sub, key)\n",
    "        print(len(value))\n",
    "        for sub_val in value:\n",
    "            assert len(sub_val) == len(value[0]), f\"sub_val: {sub_val} and value[0]: {value[0]} have different lengths\"\n",
    "            if key == 'predictions':\n",
    "                for sub_sub_val in sub_val:\n",
    "                    assert len(sub_sub_val) == len(sub_val[0]), f\"sub_sub_val: {sub_sub_val} (len: {len(sub_sub_val)}) and sub_val[0]: {sub_val[0]} (len: {len(sub_val[0])}) have different lengths\"\n",
    "\n",
    "        print(np.array(data['data'][sub][key]).dtype)"
   ]
  },
  {
   "cell_type": "code",
   "execution_count": 9,
   "id": "d4227787",
   "metadata": {},
   "outputs": [
    {
     "ename": "KeyError",
     "evalue": "'data'",
     "output_type": "error",
     "traceback": [
      "\u001b[31m---------------------------------------------------------------------------\u001b[39m",
      "\u001b[31mKeyError\u001b[39m                                  Traceback (most recent call last)",
      "\u001b[36mCell\u001b[39m\u001b[36m \u001b[39m\u001b[32mIn[9]\u001b[39m\u001b[32m, line 1\u001b[39m\n\u001b[32m----> \u001b[39m\u001b[32m1\u001b[39m \u001b[38;5;28;01mfor\u001b[39;00m sub \u001b[38;5;129;01min\u001b[39;00m \u001b[43mdf\u001b[49m\u001b[43m[\u001b[49m\u001b[33;43m'\u001b[39;49m\u001b[33;43mdata\u001b[39;49m\u001b[33;43m'\u001b[39;49m\u001b[43m]\u001b[49m.keys():\n\u001b[32m      2\u001b[39m     \u001b[38;5;66;03m# Convert predictions array to list of floats\u001b[39;00m\n\u001b[32m      3\u001b[39m     \u001b[38;5;28;01mif\u001b[39;00m \u001b[33m'\u001b[39m\u001b[33mpredictions\u001b[39m\u001b[33m'\u001b[39m \u001b[38;5;129;01min\u001b[39;00m df[\u001b[33m'\u001b[39m\u001b[33mdata\u001b[39m\u001b[33m'\u001b[39m][sub]:\n\u001b[32m      4\u001b[39m         predictions = df[\u001b[33m'\u001b[39m\u001b[33mdata\u001b[39m\u001b[33m'\u001b[39m][sub][\u001b[33m'\u001b[39m\u001b[33mpredictions\u001b[39m\u001b[33m'\u001b[39m]\n",
      "\u001b[31mKeyError\u001b[39m: 'data'"
     ]
    }
   ],
   "source": [
    "for sub in df['data'].keys():\n",
    "    # Convert predictions array to list of floats\n",
    "    if 'predictions' in df['data'][sub]:\n",
    "        predictions = df['data'][sub]['predictions']\n",
    "        df['data'][sub]['predictions'] = [[parse_list_from_string(pred) for pred in model_preds] for model_preds in predictions]"
   ]
  },
  {
   "cell_type": "code",
   "execution_count": 27,
   "id": "e073ee7d",
   "metadata": {},
   "outputs": [],
   "source": [
    "#model 36 in 'harness_truthfulqa_mc_0' has 104 nans (we will delete that item)\n",
    "data = {}\n",
    "data['data'] = {}\n",
    "data['models'] = [models[o] for o in order]\n",
    "\n",
    "for sub in df[list(df.keys())[0]].keys():\n",
    "    data['data'][sub] = {}\n",
    "    # data['data'][sub]['correctness'] = []\n",
    "    for key in KEYS_TO_ADD:\n",
    "        data['data'][sub][key] = []\n",
    "\n",
    "    for model in models:\n",
    "        # data['data'][sub]['correctness'].append(df[model][sub]['correctness'])\n",
    "        for key in KEYS_TO_ADD:\n",
    "            if key not in df[model][sub].keys():\n",
    "                value_to_add = None\n",
    "            else:\n",
    "                value_to_add = df[model][sub][key]\n",
    "            if key == 'predictions':\n",
    "                new_value_to_add = []\n",
    "                for model_preds in value_to_add:\n",
    "\n",
    "                    if isinstance(model_preds, str):\n",
    "                        parsed_model_preds = parse_list_from_string(model_preds, list_separators=[','])\n",
    "                        new_value_to_add.append(parsed_model_preds)\n",
    "                        # print(parsed_model_preds)\n",
    "                    else:\n",
    "                        new_value_to_add.append(model_preds)\n",
    "                    assert len(new_value_to_add[-1]) == 4\n",
    "                    # for pred in model_preds:\n",
    "                    #     # print(pred)\n",
    "                    #     # # print(parse_list_from_string(pred, list_separators=[',']))\n",
    "                    #     # print(float(pred))\n",
    "                    #     if isinstance(pred, str) and \"[\" in pred:\n",
    "                    #         print(pred)\n",
    "                    #         print(model_preds)\n",
    "                # value_to_add = [[float(pred) for pred in model_preds] for model_preds in value_to_add]\n",
    "                value_to_add = new_value_to_add\n",
    "            data['data'][sub][key].append(value_to_add)\n",
    "\n",
    "    # data['data'][sub]['correctness'] = np.array(data['data'][sub]['correctness']).T.astype(float)\n",
    "\n",
    "    for key in KEYS_TO_ADD:\n",
    "        if key == 'predictions':\n",
    "            data['data'][sub][key] = np.array(data['data'][sub][key]).transpose(1, 0, 2).astype(float)\n",
    "        else:\n",
    "            data['data'][sub][key] = np.array(data['data'][sub][key]).T.astype(float)"
   ]
  },
  {
   "cell_type": "code",
   "execution_count": 25,
   "id": "f45edc23",
   "metadata": {},
   "outputs": [
    {
     "data": {
      "text/plain": [
       "np.int64(397)"
      ]
     },
     "execution_count": 25,
     "metadata": {},
     "output_type": "execute_result"
    }
   ],
   "source": [
    "order.max()"
   ]
  },
  {
   "cell_type": "code",
   "execution_count": 28,
   "id": "19c25d19",
   "metadata": {},
   "outputs": [
    {
     "name": "stdout",
     "output_type": "stream",
     "text": [
      "(100, 398)\n",
      "(100, 398, 4)\n",
      "(135, 398)\n",
      "(135, 398, 4)\n",
      "(152, 398)\n",
      "(152, 398, 4)\n",
      "(100, 398)\n",
      "(100, 398, 4)\n",
      "(265, 398)\n",
      "(265, 398, 4)\n",
      "(144, 398)\n",
      "(144, 398, 4)\n",
      "(100, 398)\n",
      "(100, 398, 4)\n",
      "(100, 398)\n",
      "(100, 398, 4)\n",
      "(100, 398)\n",
      "(100, 398, 4)\n",
      "(173, 398)\n",
      "(173, 398, 4)\n",
      "(102, 398)\n",
      "(102, 398, 4)\n",
      "(100, 398)\n",
      "(100, 398, 4)\n",
      "(235, 398)\n",
      "(235, 398, 4)\n",
      "(114, 398)\n",
      "(114, 398, 4)\n",
      "(145, 398)\n",
      "(145, 398, 4)\n",
      "(378, 398)\n",
      "(378, 398, 4)\n",
      "(126, 398)\n",
      "(126, 398, 4)\n",
      "(100, 398)\n",
      "(100, 398, 4)\n",
      "(310, 398)\n",
      "(310, 398, 4)\n",
      "(203, 398)\n",
      "(203, 398, 4)\n",
      "(100, 398)\n",
      "(100, 398, 4)\n",
      "(165, 398)\n",
      "(165, 398, 4)\n",
      "(198, 398)\n",
      "(198, 398, 4)\n",
      "(193, 398)\n",
      "(193, 398, 4)\n",
      "(390, 398)\n",
      "(390, 398, 4)\n",
      "(270, 398)\n",
      "(270, 398, 4)\n",
      "(238, 398)\n",
      "(238, 398, 4)\n",
      "(151, 398)\n",
      "(151, 398, 4)\n",
      "(545, 398)\n",
      "(545, 398, 4)\n",
      "(216, 398)\n",
      "(216, 398, 4)\n",
      "(204, 398)\n",
      "(204, 398, 4)\n",
      "(237, 398)\n",
      "(237, 398, 4)\n",
      "(223, 398)\n",
      "(223, 398, 4)\n",
      "(131, 398)\n",
      "(131, 398, 4)\n",
      "(121, 398)\n",
      "(121, 398, 4)\n",
      "(108, 398)\n",
      "(108, 398, 4)\n",
      "(163, 398)\n",
      "(163, 398, 4)\n",
      "(112, 398)\n",
      "(112, 398, 4)\n",
      "(103, 398)\n",
      "(103, 398, 4)\n",
      "(234, 398)\n",
      "(234, 398, 4)\n",
      "(100, 398)\n",
      "(100, 398, 4)\n",
      "(783, 398)\n",
      "(783, 398, 4)\n",
      "(346, 398)\n",
      "(346, 398, 4)\n",
      "(895, 398)\n",
      "(895, 398, 4)\n",
      "(306, 398)\n",
      "(306, 398, 4)\n",
      "(311, 398)\n",
      "(311, 398, 4)\n",
      "(324, 398)\n",
      "(324, 398, 4)\n",
      "(282, 398)\n",
      "(282, 398, 4)\n",
      "(1534, 398)\n",
      "(1534, 398, 4)\n",
      "(272, 398)\n",
      "(272, 398, 4)\n",
      "(612, 398)\n",
      "(612, 398, 4)\n",
      "(110, 398)\n",
      "(110, 398, 4)\n",
      "(245, 398)\n",
      "(245, 398, 4)\n",
      "(201, 398)\n",
      "(201, 398, 4)\n",
      "(100, 398)\n",
      "(100, 398, 4)\n",
      "(166, 398)\n",
      "(166, 398, 4)\n",
      "(171, 398)\n",
      "(171, 398, 4)\n"
     ]
    }
   ],
   "source": [
    "for sub in df[list(df.keys())[0]].keys():\n",
    "    for key in KEYS_TO_ADD:\n",
    "        # print(sub, key)\n",
    "        # print(order)\n",
    "        # print(type(data['data'][sub][key]))\n",
    "        # print(len(data['data'][sub][key]))\n",
    "        # print(len(data['data'][sub][key][0]))\n",
    "        print(data['data'][sub][key].shape)\n",
    "        data['data'][sub][key] = data['data'][sub][key][:,order]\n",
    "\n",
    "    # data['data'][sub]['correctness'] = data['data'][sub]['correctness'][:,order]"
   ]
  },
  {
   "cell_type": "code",
   "execution_count": 29,
   "id": "7c034f69",
   "metadata": {},
   "outputs": [],
   "source": [
    "with open('../../data/lb.pickle', 'wb') as handle:\n",
    "    pickle.dump(data, handle, protocol=pickle.HIGHEST_PROTOCOL)"
   ]
  }
 ],
 "metadata": {
  "kernelspec": {
   "display_name": "Python 3",
   "language": "python",
   "name": "python3"
  },
  "language_info": {
   "codemirror_mode": {
    "name": "ipython",
    "version": 3
   },
   "file_extension": ".py",
   "mimetype": "text/x-python",
   "name": "python",
   "nbconvert_exporter": "python",
   "pygments_lexer": "ipython3",
   "version": "3.11.7"
  }
 },
 "nbformat": 4,
 "nbformat_minor": 5
}
