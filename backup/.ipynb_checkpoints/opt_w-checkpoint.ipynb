{
 "cells": [
  {
   "cell_type": "code",
   "execution_count": 53,
   "id": "a43703ce",
   "metadata": {},
   "outputs": [],
   "source": [
    "b = .04\n",
    "p =.7\n",
    "lista = [(n*b**2)/(p*(1-p)+(n*b**2)) for n in range(101)]"
   ]
  },
  {
   "cell_type": "code",
   "execution_count": 57,
   "id": "55e14e14",
   "metadata": {},
   "outputs": [],
   "source": [
    "def get_lambda(number_item, b, v):\n",
    "    return (number_item*b**2)/(v+(number_item*b**2))"
   ]
  },
  {
   "cell_type": "code",
   "execution_count": 64,
   "id": "18cf80e0",
   "metadata": {},
   "outputs": [],
   "source": [
    "import numpy as np\n",
    "import pickle\n",
    "import copy\n",
    "from experiments import *\n",
    "from utils import *"
   ]
  },
  {
   "cell_type": "code",
   "execution_count": 67,
   "id": "2345c56b",
   "metadata": {},
   "outputs": [],
   "source": [
    "scenarios = {'cnn':['summarization_cnndm:temperature=0.3,device=cuda,'], \n",
    "             'xsum':['summarization_xsum:temperature=0.3,device=cuda,'], \n",
    "             'boolq:':['boolq:'],\n",
    "             'civil_comments':['civil_comments:demographic=LGBTQ,',\n",
    "                               'civil_comments:demographic=all,',\n",
    "                               'civil_comments:demographic=black,',\n",
    "                               'civil_comments:demographic=christian,',\n",
    "                               'civil_comments:demographic=female,',\n",
    "                               'civil_comments:demographic=male,',\n",
    "                               'civil_comments:demographic=muslim,',\n",
    "                               'civil_comments:demographic=other_religions,',\n",
    "                               'civil_comments:demographic=white,'],\n",
    "             'commonsense:dataset=hellaswag,method=multiple_choice_separate_original,':['commonsense:dataset=hellaswag,method=multiple_choice_separate_original,'],\n",
    "             'commonsense:dataset=openbookqa,method=multiple_choice_separate_calibrated,':['commonsense:dataset=openbookqa,method=multiple_choice_separate_calibrated,'],\n",
    "             'imdb:':['imdb:'],\n",
    "             'mmlu':['mmlu:subject=abstract_algebra,method=multiple_choice_joint,',\n",
    "                     'mmlu:subject=college_chemistry,method=multiple_choice_joint,',\n",
    "                     'mmlu:subject=computer_security,method=multiple_choice_joint,',\n",
    "                     'mmlu:subject=econometrics,method=multiple_choice_joint,',\n",
    "                     'mmlu:subject=us_foreign_policy,method=multiple_choice_joint,'],\n",
    "             'msmarco:track=regular,valid_topk=30,':['msmarco:track=regular,valid_topk=30,'],\n",
    "             #'msmarco:track=trec,valid_topk=30,':['msmarco:track=trec,valid_topk=30,'],\n",
    "             'narrative_qa:':['narrative_qa:'],\n",
    "             'natural_qa:mode=closedbook,':['natural_qa:mode=closedbook,'],\n",
    "             'natural_qa:mode=openbook_longans,':['natural_qa:mode=openbook_longans,'],\n",
    "             'quac:':['quac:'],\n",
    "             'raft':['raft:subset=ade_corpus_v2,',\n",
    "                     'raft:subset=banking_77,',\n",
    "                     'raft:subset=neurips_impact_statement_risks,',\n",
    "                     'raft:subset=one_stop_english,',\n",
    "                     'raft:subset=overruling,',\n",
    "                     'raft:subset=semiconductor_org_types,',\n",
    "                     'raft:subset=systematic_review_inclusion,',\n",
    "                     'raft:subset=tai_safety_research,',\n",
    "                     'raft:subset=terms_of_service,',\n",
    "                     'raft:subset=tweet_eval_hate,',\n",
    "                     'raft:subset=twitter_complaints,'],\n",
    "             'truthful_qa:task=mc_single,method=multiple_choice_joint,':['truthful_qa:task=mc_single,method=multiple_choice_joint,']}\n",
    "            \n",
    "scenarios_metrics = {'boolq:':'em', \n",
    "                     'commonsense:dataset=hellaswag,method=multiple_choice_separate_original,':'em',\n",
    "                     'commonsense:dataset=openbookqa,method=multiple_choice_separate_calibrated,':'em',\n",
    "                     'imdb:':'em', \n",
    "                     'mmlu':'em', \n",
    "                     'msmarco:track=regular,valid_topk=30,':'RR@10', \n",
    "                     'msmarco:track=trec,valid_topk=30,':'NDCG@10', \n",
    "                     'narrative_qa:':'f1', \n",
    "                     'natural_qa:mode=closedbook,':'f1', \n",
    "                     'natural_qa:mode=openbook_longans,':'f1', \n",
    "                     'quac:':'f1', \n",
    "                     'raft':'em', \n",
    "                     'truthful_qa:task=mc_single,method=multiple_choice_joint,':'em'}"
   ]
  },
  {
   "cell_type": "code",
   "execution_count": 70,
   "id": "5a1dcc88",
   "metadata": {},
   "outputs": [
    {
     "data": {
      "text/plain": [
       "[[0, 1, 2, 3],\n",
       " [5, 6, 7, 8, 9, 10, 11],\n",
       " [4, 12, 13],\n",
       " [14, 15, 16, 17, 18, 19, 20, 21, 22],\n",
       " [23, 24, 25, 26, 27]]"
      ]
     },
     "execution_count": 70,
     "metadata": {},
     "output_type": "execute_result"
    }
   ],
   "source": [
    "with open('data/helm.pickle', 'rb') as handle:\n",
    "    data = pickle.load(handle)\n",
    "device = 'cuda'\n",
    "iterations = 10\n",
    "Ds = [5, 10, 15, 20, 25] #\n",
    "\n",
    "num_elements = 4\n",
    "set_of_rows = [[0,1,2,3], #ai21\n",
    "               [5,6,7,8,9,10,11], #cohere\n",
    "               [4,12,13], #anthropic+microsoft\n",
    "               [14,15,16,17,18,19,20,21,22], #openai\n",
    "               [23,24,25,26,27]] #together\n",
    "set_of_rows"
   ]
  },
  {
   "cell_type": "code",
   "execution_count": 71,
   "id": "89aeff1e",
   "metadata": {},
   "outputs": [],
   "source": [
    "scenario_name = 'full' #we are evaluating all scenarios at once\n",
    "chosen_scenarios = list(scenarios.keys())"
   ]
  },
  {
   "cell_type": "code",
   "execution_count": 95,
   "id": "85a1f009",
   "metadata": {},
   "outputs": [
    {
     "name": "stdout",
     "output_type": "stream",
     "text": [
      "\n",
      "Evaluating models [0, 1, 2, 3]\n",
      "\n",
      "i) choosing optimal D\n"
     ]
    },
    {
     "name": "stderr",
     "output_type": "stream",
     "text": [
      "100%|█████████████████████████████████████████████| 5/5 [02:12<00:00, 26.44s/it]\n"
     ]
    },
    {
     "name": "stdout",
     "output_type": "stream",
     "text": [
      "- opt D= 5 errors= [0.044579911983804656, 0.0453168327810513, 0.047692893828327226, 0.049759814361327995, 0.05001942216565462] \n",
      "\n",
      "\n",
      "ii) choosing optimal lambdas\n",
      " - debiasing IRT\n"
     ]
    }
   ],
   "source": [
    "bench ='irt_helm'\n",
    "lambds = [None] + np.round(np.linspace(0,1,10),2).tolist()  # Lambda values to consider\n",
    "number_items = [10, 25, 50, 75, 100]  # Number of items to consider in evaluations\n",
    "\n",
    "#cpu = mp.cpu_count()  # Number of available CPU cores\n",
    "epochs = 2000  # Number of epochs for IRT model training (package default is 2000)\n",
    "lr = .1  # Learning rate for IRT model training (package default is .1)\n",
    "\n",
    "accs = {}  # Initialize a dictionary to hold accuracies\n",
    "results = {}  # Initialize a dictionary to hold results\n",
    "\n",
    "# Iterate through each set of rows to hide\n",
    "rows_to_hide =[0, 1, 2, 3]\n",
    "rows_to_hide_str = ':'.join([str(r) for r in rows_to_hide])\n",
    "\n",
    "print(f\"\\nEvaluating models {rows_to_hide}\")\n",
    "        \n",
    "# Prepare data and scenarios\n",
    "scenarios_position, subscenarios_position = prepare_data(chosen_scenarios, scenarios, data)\n",
    "scores = create_responses(chosen_scenarios, scenarios, data)\n",
    "        \n",
    "balance_weights = np.ones(scores.shape[1]) #for scenario=='civil_comments', some items need to be downweighted, for other scenarios not\n",
    "if 'civil_comments' in chosen_scenarios:\n",
    "    balance_weights[scenarios_position['civil_comments']] = scores[:,scenarios_position['civil_comments']].max(axis=0)\n",
    "    #(balance_weights==0).sum(axis=0) verifying that no item had weight 0 (the output should be zero)\n",
    "    scores[:,scenarios_position['civil_comments']] = (scores[:,scenarios_position['civil_comments']]>0).astype(float)\n",
    "\n",
    "# Create training and test sets by hiding specific rows\n",
    "scores_train = scores[[i for i in range(scores.shape[0]) if i not in rows_to_hide]]\n",
    "scores_test = scores[[i for i in range(scores.shape[0]) if i in rows_to_hide]]\n",
    "responses_train = np.zeros(scores_train.shape)\n",
    "responses_test = np.zeros(scores_test.shape)\n",
    "\n",
    "# Threshold responses \n",
    "cs = np.linspace(0.01,.99,1000)  # Threshold values to consider\n",
    "for scenario in chosen_scenarios:\n",
    "    ind = scenarios_position[scenario]\n",
    "    # Find the best threshold value that minimizes the difference between mean responses and mean scores\n",
    "    c = cs[np.argmin([np.mean((np.abs((scores_train[:,ind]>c).mean(axis=1)-scores_train[:,ind].mean(axis=1)))) for c in cs])]\n",
    "    # Apply the threshold to train and test responses\n",
    "    responses_train[:,ind] = (scores_train[:,ind]>c).astype(int)\n",
    "    responses_test[:,ind] = (scores_test[:,ind]>c).astype(int)\n",
    "\n",
    "# Transforming scores back\n",
    "scores = balance_weights*scores\n",
    "scores_train = scores[[i for i in range(scores.shape[0]) if i not in rows_to_hide]]\n",
    "scores_test = scores[[i for i in range(scores.shape[0]) if i in rows_to_hide]]\n",
    "#print(\"shape of scores=\",scores.shape, \"shape of scores train=\",scores_train.shape,\"shape of scores test=\",scores_test.shape)\n",
    "        \n",
    "# Choosing D through validation\n",
    "val_ind = list(range(int(responses_train.shape[0]/3)))\n",
    "train_ind = [i for i in range(responses_train.shape[0]) if i not in val_ind]\n",
    "        \n",
    "# Create IRT dataset for validation and train IRT models\n",
    "dataset_name = f'data/{bench}/rows-{rows_to_hide_str}_scenario-{scenario_name}_val.jsonlines'\n",
    "create_irt_dataset(responses_train[train_ind], dataset_name)\n",
    "\n",
    "errors = []  # Initialize a list to hold validation errors\n",
    "errors2 = []\n",
    "print(\"\\ni) choosing optimal D\")\n",
    "for D in tqdm(Ds):\n",
    "    # Train IRT model for the current dimension (D)\n",
    "    model_name = f'models/{bench}/rows-{rows_to_hide_str}_D-{D}_scenario-{scenario_name}_val/'\n",
    "    #train_irt_model(dataset_name, model_name, D, lr, epochs, device)\n",
    "    # Load trained IRT model parameters\n",
    "    A, B, Theta = load_irt_parameters(model_name)\n",
    "    # Determine seen and unseen items for validation\n",
    "    seen_items = list(range(0, responses_train.shape[1], 2))\n",
    "    unseen_items = list(range(1, responses_train.shape[1], 2))\n",
    "    # Estimate ability parameters for the validation set\n",
    "    thetas = [estimate_ability_parameters(responses_train[val_ind][j], seen_items, A, B) for j in range(len(val_ind))]\n",
    "\n",
    "    # Compute validation errors for each scenario and update the errors list (in the end, we give the same weight for all scenarios)\n",
    "    errors2.append([])\n",
    "    for scenario in chosen_scenarios:\n",
    "        ind = [u for u in unseen_items if u in scenarios_position[scenario]]\n",
    "        errors2[-1].append(np.mean([abs((balance_weights*item_curve(thetas[j], A, B))[0,ind].mean()-scores_train[val_ind][j,ind].mean())for j in range(len(val_ind))]))\n",
    "    errors.append(np.mean(errors2[-1]))\n",
    "\n",
    "# Choose the simplest model (D) that is not far from the best model based on validation errors\n",
    "ind_D = np.argmax(np.array(errors)-np.min(errors)<.0025)\n",
    "D = Ds[ind_D] \n",
    "#D = Ds[np.argmin(errors)] \n",
    "print(\"- opt D=\", D, \"errors=\", errors, \"\\n\")\n",
    "\n",
    "# Choosing lambdas (For random G-PIRT)\n",
    "print(\"\\nii) choosing optimal lambdas\")\n",
    "        \n",
    "iterations_val = 2*iterations\n",
    "        \n",
    "if False: seen_items_dic = get_disc_items(responses_train[train_ind], number_items, chosen_scenarios, rows_to_hide_str, scenarios_position, device, bench)\n",
    "        \n",
    "opt_lambds = {'random_gpirt': {}, 'anchor_gpirt': {}, 'anchor-irt_gpirt': {}, 'disc_gpirt': {}}  # Initialize a dictionary to hold optimal lambda values\n",
    "        # Reload trained IRT model parameters for the chosen dimension (D)\n",
    "model_name = f'models/{bench}/rows-{rows_to_hide_str}_D-{D}_scenario-{scenario_name}_val/'\n",
    "A, B, Theta = load_irt_parameters(model_name)\n",
    "print(\" - debiasing IRT\")\n",
    "  \n"
   ]
  },
  {
   "cell_type": "code",
   "execution_count": 96,
   "id": "afa4f438",
   "metadata": {},
   "outputs": [],
   "source": [
    "def get_lambda(number_item, b, v):\n",
    "    return (number_item*b**2)/(v+(number_item*b**2))"
   ]
  },
  {
   "cell_type": "code",
   "execution_count": 101,
   "id": "77057478",
   "metadata": {},
   "outputs": [
    {
     "name": "stderr",
     "output_type": "stream",
     "text": [
      "100%|████████████████████████████████████████| 15/15 [00:00<00:00, 46916.15it/s]\n"
     ]
    }
   ],
   "source": [
    "vs = {}\n",
    "bs = {}\n",
    "for i,scenario in enumerate(chosen_scenarios):\n",
    "    vs[scenario] = np.var(scores_train[:,scenarios_position[scenario]])\n",
    "    bs[scenario] = np.mean(errors2[ind_D][i]) \n",
    "    \n",
    "lambds = {}\n",
    "for scenario in chosen_scenarios:\n",
    "    lambds[scenario] = {}\n",
    "    for number_item in number_items: \n",
    "        lambds[scenario][number_item] = get_lambda(number_item, bs[scenario], vs[scenario])"
   ]
  },
  {
   "cell_type": "code",
   "execution_count": null,
   "id": "57d3876b",
   "metadata": {},
   "outputs": [],
   "source": []
  },
  {
   "cell_type": "code",
   "execution_count": 102,
   "id": "414f91a1",
   "metadata": {},
   "outputs": [
    {
     "data": {
      "text/plain": [
       "{'cnn': {10: 0.5505698352323718,\n",
       "  25: 0.7538521812501997,\n",
       "  50: 0.8596530418120308,\n",
       "  75: 0.9018433662154779,\n",
       "  100: 0.9245305683197678},\n",
       " 'xsum': {10: 0.10611472364294021,\n",
       "  25: 0.22885886611138165,\n",
       "  50: 0.372473800568467,\n",
       "  75: 0.47099420083697296,\n",
       "  100: 0.542777283492321},\n",
       " 'boolq:': {10: 0.09549278534748269,\n",
       "  25: 0.20882066321582507,\n",
       "  50: 0.3454948605201695,\n",
       "  75: 0.4419044351820251,\n",
       "  100: 0.5135580531115531},\n",
       " 'civil_comments': {10: 0.03445619767330429,\n",
       "  25: 0.08190717924487449,\n",
       "  50: 0.15141258107195896,\n",
       "  75: 0.21113465042095697,\n",
       "  100: 0.2630031729043548},\n",
       " 'commonsense:dataset=hellaswag,method=multiple_choice_separate_original,': {10: 0.2028549402625461,\n",
       "  25: 0.38882480252358737,\n",
       "  50: 0.5599335521904084,\n",
       "  75: 0.6561891636343071,\n",
       "  100: 0.7178941069690664},\n",
       " 'commonsense:dataset=openbookqa,method=multiple_choice_separate_calibrated,': {10: 0.038526343227734794,\n",
       "  25: 0.09105389750791747,\n",
       "  50: 0.16690998990222974,\n",
       "  75: 0.23108018885882844,\n",
       "  100: 0.2860717473439651},\n",
       " 'imdb:': {10: 0.27383991583388934,\n",
       "  25: 0.4852702450095601,\n",
       "  50: 0.6534437037839355,\n",
       "  75: 0.73878752677371,\n",
       "  100: 0.7904033288687337},\n",
       " 'mmlu': {10: 0.018112739446646212,\n",
       "  25: 0.044084122285576434,\n",
       "  50: 0.08444553718348492,\n",
       "  75: 0.12153669022831111,\n",
       "  100: 0.1557395632846742},\n",
       " 'msmarco:track=regular,valid_topk=30,': {10: 0.3391428994945548,\n",
       "  25: 0.5619733444985507,\n",
       "  50: 0.7195684183445067,\n",
       "  75: 0.7937675847653787,\n",
       "  100: 0.8369174621586297},\n",
       " 'narrative_qa:': {10: 0.20562450460491055,\n",
       "  25: 0.39288200885407465,\n",
       "  50: 0.5641281980191546,\n",
       "  75: 0.6600233932784126,\n",
       "  100: 0.7213324313615452},\n",
       " 'natural_qa:mode=closedbook,': {10: 0.072935466853048,\n",
       "  25: 0.16435743748230605,\n",
       "  50: 0.2823144031057966,\n",
       "  75: 0.3710896308435248,\n",
       "  100: 0.4403201000035939},\n",
       " 'natural_qa:mode=openbook_longans,': {10: 0.03831869603286036,\n",
       "  25: 0.09058981472118931,\n",
       "  50: 0.16612994821402896,\n",
       "  75: 0.23008307745018192,\n",
       "  100: 0.284925275212189},\n",
       " 'quac:': {10: 0.039142907564896925,\n",
       "  25: 0.09243028382812037,\n",
       "  50: 0.1692195560603171,\n",
       "  75: 0.23402825535232974,\n",
       "  100: 0.28945727974393803},\n",
       " 'raft': {10: 0.04042436904805463,\n",
       "  25: 0.09528327331334839,\n",
       "  50: 0.17398836563094106,\n",
       "  75: 0.2400956256917856,\n",
       "  100: 0.2964056045605423},\n",
       " 'truthful_qa:task=mc_single,method=multiple_choice_joint,': {10: 0.2930988377938415,\n",
       "  25: 0.5089764746903719,\n",
       "  50: 0.6745982899366395,\n",
       "  75: 0.7566724608419091,\n",
       "  100: 0.8056837200785196}}"
      ]
     },
     "execution_count": 102,
     "metadata": {},
     "output_type": "execute_result"
    }
   ],
   "source": [
    "lambds"
   ]
  },
  {
   "cell_type": "code",
   "execution_count": null,
   "id": "4e38a441",
   "metadata": {},
   "outputs": [],
   "source": []
  },
  {
   "cell_type": "code",
   "execution_count": null,
   "id": "174341fe",
   "metadata": {},
   "outputs": [],
   "source": []
  },
  {
   "cell_type": "code",
   "execution_count": 54,
   "id": "270ed10b",
   "metadata": {},
   "outputs": [
    {
     "data": {
      "text/plain": [
       "(0.07079646017699114,\n",
       " 0.16,\n",
       " 0.27586206896551724,\n",
       " 0.36363636363636365,\n",
       " 0.43243243243243246)"
      ]
     },
     "execution_count": 54,
     "metadata": {},
     "output_type": "execute_result"
    }
   ],
   "source": [
    "lista[10], lista[25], lista[50], lista[75], lista[100]\n"
   ]
  },
  {
   "cell_type": "code",
   "execution_count": 55,
   "id": "b4bc1670",
   "metadata": {},
   "outputs": [],
   "source": [
    "import matplotlib.pyplot as plt"
   ]
  },
  {
   "cell_type": "code",
   "execution_count": 56,
   "id": "523363d6",
   "metadata": {},
   "outputs": [
    {
     "data": {
      "image/png": "[encoded data removed]",
      "text/plain": [
       "<Figure size 640x480 with 1 Axes>"
      ]
     },
     "metadata": {},
     "output_type": "display_data"
    }
   ],
   "source": [
    "plt.plot(lista)\n",
    "plt.plot()\n",
    "plt.show()"
   ]
  },
  {
   "cell_type": "code",
   "execution_count": null,
   "id": "180de58d",
   "metadata": {},
   "outputs": [],
   "source": []
  },
  {
   "cell_type": "code",
   "execution_count": null,
   "id": "f83a6d24",
   "metadata": {},
   "outputs": [],
   "source": []
  }
 ],
 "metadata": {
  "kernelspec": {
   "display_name": "Python 3 (ipykernel)",
   "language": "python",
   "name": "python3"
  },
  "language_info": {
   "codemirror_mode": {
    "name": "ipython",
    "version": 3
   },
   "file_extension": ".py",
   "mimetype": "text/x-python",
   "name": "python",
   "nbconvert_exporter": "python",
   "pygments_lexer": "ipython3",
   "version": "3.11.5"
  }
 },
 "nbformat": 4,
 "nbformat_minor": 5
}
